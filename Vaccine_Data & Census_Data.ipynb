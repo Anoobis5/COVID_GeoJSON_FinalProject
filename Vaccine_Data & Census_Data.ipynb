{
 "cells": [
  {
   "cell_type": "code",
   "execution_count": 18,
   "id": "a140812b",
   "metadata": {},
   "outputs": [],
   "source": [
    "import pandas as pd"
   ]
  },
  {
   "cell_type": "code",
   "execution_count": 19,
   "id": "f8f0fd02",
   "metadata": {},
   "outputs": [
    {
     "name": "stdout",
     "output_type": "stream",
     "text": [
      "                 Region       County  First Dose  Series Complete Report as of\n",
      "0        Capital Region       Albany          69                0   2020-12-14\n",
      "1      Western New York     Allegany           0                0   2020-12-14\n",
      "2         New York City        Bronx           2                0   2020-12-14\n",
      "3         Southern Tier       Broome           0                0   2020-12-14\n",
      "4      Western New York  Cattaraugus           0                0   2020-12-14\n",
      "...                 ...          ...         ...              ...          ...\n",
      "19401    Capital Region   Washington       36985            35067   2021-10-22\n",
      "19402      Finger Lakes        Wayne       56917            53418   2021-10-22\n",
      "19403        Mid-Hudson  Westchester      746052           671155   2021-10-22\n",
      "19404      Finger Lakes      Wyoming       20610            19245   2021-10-22\n",
      "19405      Finger Lakes        Yates       12852            11880   2021-10-22\n",
      "\n",
      "[19406 rows x 5 columns]\n"
     ]
    }
   ],
   "source": [
    "# Create a DataFrame of the Vaccine Data\n",
    "df = pd.read_csv('./Resources/New_York_State_Statewide_COVID-19_Vaccination_Data_by_County.csv')\n",
    "print(df)"
   ]
  },
  {
   "cell_type": "code",
   "execution_count": 21,
   "id": "71b8ea2a",
   "metadata": {
    "scrolled": true
   },
   "outputs": [
    {
     "data": {
      "text/plain": [
       "Region             object\n",
       "County             object\n",
       "First Dose          int64\n",
       "Series Complete     int64\n",
       "Report as of       object\n",
       "dtype: object"
      ]
     },
     "execution_count": 21,
     "metadata": {},
     "output_type": "execute_result"
    }
   ],
   "source": [
    "# Check the datatypes of your columns. \n",
    "df = pd.DataFrame(df)\n",
    "df.dtypes"
   ]
  },
  {
   "cell_type": "code",
   "execution_count": 25,
   "id": "2da0065b",
   "metadata": {},
   "outputs": [],
   "source": [
    "cdf = pd.read_csv('./Resources/co-est2020-alldata.csv')"
   ]
  },
  {
   "cell_type": "code",
   "execution_count": 26,
   "id": "68fb6c21",
   "metadata": {},
   "outputs": [
    {
     "name": "stdout",
     "output_type": "stream",
     "text": [
      "      SUMLEV  REGION  DIVISION  STATE  COUNTY   STNAME            CTYNAME  \\\n",
      "0         40       3         6      1       0  Alabama            Alabama   \n",
      "1         50       3         6      1       1  Alabama     Autauga County   \n",
      "2         50       3         6      1       3  Alabama     Baldwin County   \n",
      "3         50       3         6      1       5  Alabama     Barbour County   \n",
      "4         50       3         6      1       7  Alabama        Bibb County   \n",
      "...      ...     ...       ...    ...     ...      ...                ...   \n",
      "3189      50       4         8     56      37  Wyoming  Sweetwater County   \n",
      "3190      50       4         8     56      39  Wyoming       Teton County   \n",
      "3191      50       4         8     56      41  Wyoming       Uinta County   \n",
      "3192      50       4         8     56      43  Wyoming    Washakie County   \n",
      "3193      50       4         8     56      45  Wyoming      Weston County   \n",
      "\n",
      "     CENSUS2010POP  ESTIMATESBASE2010  POPESTIMATE2010  ...  RNETMIG2011  \\\n",
      "0          4779736            4780118          4785514  ...     0.680010   \n",
      "1            54571              54582            54761  ...     6.236931   \n",
      "2           182265             182263           183121  ...    16.705437   \n",
      "3            27457              27454            27325  ...     0.329254   \n",
      "4            22915              22904            22858  ...    -4.912927   \n",
      "...            ...                ...              ...  ...          ...   \n",
      "3189         43806              43806            43580  ...     0.776433   \n",
      "3190         21294              21298            21298  ...    -2.340824   \n",
      "3191         21118              21121            21090  ...   -17.908599   \n",
      "3192          8533               8528             8531  ...   -12.837122   \n",
      "3193          7208               7208             7198  ...    -8.786611   \n",
      "\n",
      "      RNETMIG2012  RNETMIG2013  RNETMIG2014  RNETMIG2015  RNETMIG2016  \\\n",
      "0        1.282825     1.614391     0.653828     0.730419     0.854384   \n",
      "1       -5.971016    -3.773344     2.206640    -1.529706     4.954403   \n",
      "2       17.670696    22.924288    20.300088    17.902273    21.436499   \n",
      "3       -6.860371    -8.093425    -5.063857   -15.677998   -18.377839   \n",
      "4       -3.789130    -5.800695     1.420612     1.286202    -0.841769   \n",
      "...           ...          ...          ...          ...          ...   \n",
      "3189    15.410190    -4.433558   -12.751566   -13.455712   -17.688190   \n",
      "3190     2.322071    23.284369    12.672811     4.881876     1.035867   \n",
      "3191    -4.151853   -10.624866   -15.022486   -10.381621   -11.424990   \n",
      "3192    -3.084040    -1.307423   -19.048760     0.000000   -15.064998   \n",
      "3193   -10.410072     6.194130     0.420580     9.207589     0.970201   \n",
      "\n",
      "      RNETMIG2017  RNETMIG2018  RNETMIG2019  RNETMIG2020  \n",
      "0        1.197150     1.966095     2.677866     3.091308  \n",
      "1        0.993228    -0.018021     3.486011     6.290545  \n",
      "2       22.476720    24.846335    25.242507    26.401562  \n",
      "3      -25.138734    -8.790155    -6.257064     0.649799  \n",
      "4       -3.235672    -7.271592     0.268980    -7.199262  \n",
      "...           ...          ...          ...          ...  \n",
      "3189   -20.936101   -15.589918   -10.452355    -9.510457  \n",
      "3190    -1.543805   -13.120659     0.171505     0.383943  \n",
      "3191   -18.658892   -14.135663    -8.840598    -2.177625  \n",
      "3192   -16.056321   -16.101642    -7.638447    -6.801848  \n",
      "3193   -36.081748    -9.814534     0.000000   -17.176833  \n",
      "\n",
      "[3194 rows x 180 columns]\n"
     ]
    }
   ],
   "source": [
    "print(cdf)"
   ]
  },
  {
   "cell_type": "code",
   "execution_count": 36,
   "id": "64788fef",
   "metadata": {},
   "outputs": [
    {
     "data": {
      "text/plain": [
       "SUMLEV                int64\n",
       "REGION                int64\n",
       "DIVISION              int64\n",
       "STATE                 int64\n",
       "COUNTY                int64\n",
       "STNAME               object\n",
       "CTYNAME              object\n",
       "CENSUS2010POP        object\n",
       "ESTIMATESBASE2010     int64\n",
       "POPESTIMATE2010       int64\n",
       "POPESTIMATE2011       int64\n",
       "POPESTIMATE2012       int64\n",
       "POPESTIMATE2013       int64\n",
       "POPESTIMATE2014       int64\n",
       "POPESTIMATE2015       int64\n",
       "POPESTIMATE2016       int64\n",
       "POPESTIMATE2017       int64\n",
       "POPESTIMATE2018       int64\n",
       "POPESTIMATE2019       int64\n",
       "POPESTIMATE2020       int64\n",
       "dtype: object"
      ]
     },
     "execution_count": 36,
     "metadata": {},
     "output_type": "execute_result"
    }
   ],
   "source": [
    "# Check the datatypes of your columns. \n",
    "cdf = pd.DataFrame(cdf)\n",
    "cdf.dtypes.head(20)"
   ]
  },
  {
   "cell_type": "code",
   "execution_count": 42,
   "id": "aa3f01f7",
   "metadata": {},
   "outputs": [
    {
     "data": {
      "text/plain": [
       "0                 Alabama\n",
       "1          Autauga County\n",
       "2          Baldwin County\n",
       "3          Barbour County\n",
       "4             Bibb County\n",
       "              ...        \n",
       "3189    Sweetwater County\n",
       "3190         Teton County\n",
       "3191         Uinta County\n",
       "3192      Washakie County\n",
       "3193        Weston County\n",
       "Name: CTYNAME, Length: 3194, dtype: object"
      ]
     },
     "execution_count": 42,
     "metadata": {},
     "output_type": "execute_result"
    }
   ],
   "source": [
    "cdf['CTYNAME'].astype(str)"
   ]
  },
  {
   "cell_type": "code",
   "execution_count": null,
   "id": "13f573cf",
   "metadata": {},
   "outputs": [],
   "source": []
  },
  {
   "cell_type": "code",
   "execution_count": 43,
   "id": "7608f0a4",
   "metadata": {},
   "outputs": [
    {
     "data": {
      "text/plain": [
       "SUMLEV                int64\n",
       "REGION                int64\n",
       "DIVISION              int64\n",
       "STATE                 int64\n",
       "COUNTY                int64\n",
       "STNAME               object\n",
       "CTYNAME              object\n",
       "CENSUS2010POP        object\n",
       "ESTIMATESBASE2010     int64\n",
       "POPESTIMATE2010       int64\n",
       "POPESTIMATE2011       int64\n",
       "POPESTIMATE2012       int64\n",
       "POPESTIMATE2013       int64\n",
       "POPESTIMATE2014       int64\n",
       "POPESTIMATE2015       int64\n",
       "POPESTIMATE2016       int64\n",
       "POPESTIMATE2017       int64\n",
       "POPESTIMATE2018       int64\n",
       "POPESTIMATE2019       int64\n",
       "POPESTIMATE2020       int64\n",
       "dtype: object"
      ]
     },
     "execution_count": 43,
     "metadata": {},
     "output_type": "execute_result"
    }
   ],
   "source": [
    "# Check the datatypes of your columns. \n",
    "cdf = pd.DataFrame(cdf)\n",
    "cdf.dtypes.head(20)"
   ]
  },
  {
   "cell_type": "code",
   "execution_count": null,
   "id": "ff13b03a",
   "metadata": {},
   "outputs": [],
   "source": []
  },
  {
   "cell_type": "code",
   "execution_count": 40,
   "id": "3c54075e",
   "metadata": {},
   "outputs": [
    {
     "ename": "KeyError",
     "evalue": "'CTYNAME'",
     "output_type": "error",
     "traceback": [
      "\u001b[1;31m---------------------------------------------------------------------------\u001b[0m",
      "\u001b[1;31mKeyError\u001b[0m                                  Traceback (most recent call last)",
      "\u001b[1;32m~\\anaconda3\\envs\\PythonData\\lib\\site-packages\\pandas\\core\\indexes\\base.py\u001b[0m in \u001b[0;36mget_loc\u001b[1;34m(self, key, method, tolerance)\u001b[0m\n\u001b[0;32m   3079\u001b[0m             \u001b[1;32mtry\u001b[0m\u001b[1;33m:\u001b[0m\u001b[1;33m\u001b[0m\u001b[1;33m\u001b[0m\u001b[0m\n\u001b[1;32m-> 3080\u001b[1;33m                 \u001b[1;32mreturn\u001b[0m \u001b[0mself\u001b[0m\u001b[1;33m.\u001b[0m\u001b[0m_engine\u001b[0m\u001b[1;33m.\u001b[0m\u001b[0mget_loc\u001b[0m\u001b[1;33m(\u001b[0m\u001b[0mcasted_key\u001b[0m\u001b[1;33m)\u001b[0m\u001b[1;33m\u001b[0m\u001b[1;33m\u001b[0m\u001b[0m\n\u001b[0m\u001b[0;32m   3081\u001b[0m             \u001b[1;32mexcept\u001b[0m \u001b[0mKeyError\u001b[0m \u001b[1;32mas\u001b[0m \u001b[0merr\u001b[0m\u001b[1;33m:\u001b[0m\u001b[1;33m\u001b[0m\u001b[1;33m\u001b[0m\u001b[0m\n",
      "\u001b[1;32mpandas\\_libs\\index.pyx\u001b[0m in \u001b[0;36mpandas._libs.index.IndexEngine.get_loc\u001b[1;34m()\u001b[0m\n",
      "\u001b[1;32mpandas\\_libs\\index.pyx\u001b[0m in \u001b[0;36mpandas._libs.index.IndexEngine.get_loc\u001b[1;34m()\u001b[0m\n",
      "\u001b[1;32mpandas\\_libs\\hashtable_class_helper.pxi\u001b[0m in \u001b[0;36mpandas._libs.hashtable.PyObjectHashTable.get_item\u001b[1;34m()\u001b[0m\n",
      "\u001b[1;32mpandas\\_libs\\hashtable_class_helper.pxi\u001b[0m in \u001b[0;36mpandas._libs.hashtable.PyObjectHashTable.get_item\u001b[1;34m()\u001b[0m\n",
      "\u001b[1;31mKeyError\u001b[0m: 'CTYNAME'",
      "\nThe above exception was the direct cause of the following exception:\n",
      "\u001b[1;31mKeyError\u001b[0m                                  Traceback (most recent call last)",
      "\u001b[1;32m<ipython-input-40-918a67d169c8>\u001b[0m in \u001b[0;36m<module>\u001b[1;34m\u001b[0m\n\u001b[0;32m      1\u001b[0m \u001b[1;31m# remove 'County' from Census Data COUNTY Column\u001b[0m\u001b[1;33m\u001b[0m\u001b[1;33m\u001b[0m\u001b[1;33m\u001b[0m\u001b[0m\n\u001b[1;32m----> 2\u001b[1;33m \u001b[0mcdf\u001b[0m\u001b[1;33m[\u001b[0m\u001b[1;34m'CTYNAME'\u001b[0m\u001b[1;33m]\u001b[0m \u001b[1;33m=\u001b[0m \u001b[0mdf\u001b[0m\u001b[1;33m[\u001b[0m\u001b[1;34m'CTYNAME'\u001b[0m\u001b[1;33m]\u001b[0m\u001b[1;33m.\u001b[0m\u001b[0mstr\u001b[0m\u001b[1;33m.\u001b[0m\u001b[0mrstrip\u001b[0m\u001b[1;33m(\u001b[0m\u001b[1;34m'County'\u001b[0m\u001b[1;33m)\u001b[0m\u001b[1;33m\u001b[0m\u001b[1;33m\u001b[0m\u001b[0m\n\u001b[0m",
      "\u001b[1;32m~\\anaconda3\\envs\\PythonData\\lib\\site-packages\\pandas\\core\\frame.py\u001b[0m in \u001b[0;36m__getitem__\u001b[1;34m(self, key)\u001b[0m\n\u001b[0;32m   3022\u001b[0m             \u001b[1;32mif\u001b[0m \u001b[0mself\u001b[0m\u001b[1;33m.\u001b[0m\u001b[0mcolumns\u001b[0m\u001b[1;33m.\u001b[0m\u001b[0mnlevels\u001b[0m \u001b[1;33m>\u001b[0m \u001b[1;36m1\u001b[0m\u001b[1;33m:\u001b[0m\u001b[1;33m\u001b[0m\u001b[1;33m\u001b[0m\u001b[0m\n\u001b[0;32m   3023\u001b[0m                 \u001b[1;32mreturn\u001b[0m \u001b[0mself\u001b[0m\u001b[1;33m.\u001b[0m\u001b[0m_getitem_multilevel\u001b[0m\u001b[1;33m(\u001b[0m\u001b[0mkey\u001b[0m\u001b[1;33m)\u001b[0m\u001b[1;33m\u001b[0m\u001b[1;33m\u001b[0m\u001b[0m\n\u001b[1;32m-> 3024\u001b[1;33m             \u001b[0mindexer\u001b[0m \u001b[1;33m=\u001b[0m \u001b[0mself\u001b[0m\u001b[1;33m.\u001b[0m\u001b[0mcolumns\u001b[0m\u001b[1;33m.\u001b[0m\u001b[0mget_loc\u001b[0m\u001b[1;33m(\u001b[0m\u001b[0mkey\u001b[0m\u001b[1;33m)\u001b[0m\u001b[1;33m\u001b[0m\u001b[1;33m\u001b[0m\u001b[0m\n\u001b[0m\u001b[0;32m   3025\u001b[0m             \u001b[1;32mif\u001b[0m \u001b[0mis_integer\u001b[0m\u001b[1;33m(\u001b[0m\u001b[0mindexer\u001b[0m\u001b[1;33m)\u001b[0m\u001b[1;33m:\u001b[0m\u001b[1;33m\u001b[0m\u001b[1;33m\u001b[0m\u001b[0m\n\u001b[0;32m   3026\u001b[0m                 \u001b[0mindexer\u001b[0m \u001b[1;33m=\u001b[0m \u001b[1;33m[\u001b[0m\u001b[0mindexer\u001b[0m\u001b[1;33m]\u001b[0m\u001b[1;33m\u001b[0m\u001b[1;33m\u001b[0m\u001b[0m\n",
      "\u001b[1;32m~\\anaconda3\\envs\\PythonData\\lib\\site-packages\\pandas\\core\\indexes\\base.py\u001b[0m in \u001b[0;36mget_loc\u001b[1;34m(self, key, method, tolerance)\u001b[0m\n\u001b[0;32m   3080\u001b[0m                 \u001b[1;32mreturn\u001b[0m \u001b[0mself\u001b[0m\u001b[1;33m.\u001b[0m\u001b[0m_engine\u001b[0m\u001b[1;33m.\u001b[0m\u001b[0mget_loc\u001b[0m\u001b[1;33m(\u001b[0m\u001b[0mcasted_key\u001b[0m\u001b[1;33m)\u001b[0m\u001b[1;33m\u001b[0m\u001b[1;33m\u001b[0m\u001b[0m\n\u001b[0;32m   3081\u001b[0m             \u001b[1;32mexcept\u001b[0m \u001b[0mKeyError\u001b[0m \u001b[1;32mas\u001b[0m \u001b[0merr\u001b[0m\u001b[1;33m:\u001b[0m\u001b[1;33m\u001b[0m\u001b[1;33m\u001b[0m\u001b[0m\n\u001b[1;32m-> 3082\u001b[1;33m                 \u001b[1;32mraise\u001b[0m \u001b[0mKeyError\u001b[0m\u001b[1;33m(\u001b[0m\u001b[0mkey\u001b[0m\u001b[1;33m)\u001b[0m \u001b[1;32mfrom\u001b[0m \u001b[0merr\u001b[0m\u001b[1;33m\u001b[0m\u001b[1;33m\u001b[0m\u001b[0m\n\u001b[0m\u001b[0;32m   3083\u001b[0m \u001b[1;33m\u001b[0m\u001b[0m\n\u001b[0;32m   3084\u001b[0m         \u001b[1;32mif\u001b[0m \u001b[0mtolerance\u001b[0m \u001b[1;32mis\u001b[0m \u001b[1;32mnot\u001b[0m \u001b[1;32mNone\u001b[0m\u001b[1;33m:\u001b[0m\u001b[1;33m\u001b[0m\u001b[1;33m\u001b[0m\u001b[0m\n",
      "\u001b[1;31mKeyError\u001b[0m: 'CTYNAME'"
     ]
    }
   ],
   "source": [
    "# remove 'County' from Census Data COUNTY Column\n",
    "cdf['CTYNAME'] = df['CTYNAME'].str.rstrip('County')"
   ]
  },
  {
   "cell_type": "code",
   "execution_count": null,
   "id": "edba5380",
   "metadata": {},
   "outputs": [],
   "source": [
    "# Change Census Column names to match Vaccine Data\n",
    "cdf=cdf.rename(columns={'STNAME':'State', 'CTYNAME':'County'})"
   ]
  },
  {
   "cell_type": "code",
   "execution_count": null,
   "id": "a871d013",
   "metadata": {},
   "outputs": [],
   "source": []
  },
  {
   "cell_type": "code",
   "execution_count": 30,
   "id": "8664777b",
   "metadata": {},
   "outputs": [
    {
     "ename": "NameError",
     "evalue": "name 'COUNTY' is not defined",
     "output_type": "error",
     "traceback": [
      "\u001b[1;31m---------------------------------------------------------------------------\u001b[0m",
      "\u001b[1;31mNameError\u001b[0m                                 Traceback (most recent call last)",
      "\u001b[1;32m<ipython-input-30-4f399105e88a>\u001b[0m in \u001b[0;36m<module>\u001b[1;34m\u001b[0m\n\u001b[0;32m      5\u001b[0m \u001b[1;31m# use merge function by setting how to 'inner'\u001b[0m\u001b[1;33m\u001b[0m\u001b[1;33m\u001b[0m\u001b[1;33m\u001b[0m\u001b[0m\n\u001b[0;32m      6\u001b[0m VDataOutput = pd.merge(vdata1, vdata2,\n\u001b[1;32m----> 7\u001b[1;33m                       \u001b[0mon\u001b[0m \u001b[1;33m=\u001b[0m \u001b[0mCOUNTY\u001b[0m\u001b[1;33m,\u001b[0m\u001b[1;33m\u001b[0m\u001b[1;33m\u001b[0m\u001b[0m\n\u001b[0m\u001b[0;32m      8\u001b[0m                       how='inner')\n\u001b[0;32m      9\u001b[0m \u001b[1;33m\u001b[0m\u001b[0m\n",
      "\u001b[1;31mNameError\u001b[0m: name 'COUNTY' is not defined"
     ]
    }
   ],
   "source": [
    "# Read in both csv files\n",
    "vdata1 = pd.read_csv('./Resources/New_York_State_Statewide_COVID-19_Vaccination_Data_by_County.csv')\n",
    "vdata2 = pd.read_csv('./Resources/co-est2020-alldata.csv')\n",
    "\n",
    "# use merge function by setting how to 'inner'\n",
    "VDataOutput = pd.merge(vdata1, vdata2,\n",
    "                      on = COUNTY,\n",
    "                      how='inner')\n",
    "\n",
    "print(VDataOutput)"
   ]
  },
  {
   "cell_type": "code",
   "execution_count": null,
   "id": "af270b76",
   "metadata": {},
   "outputs": [],
   "source": []
  }
 ],
 "metadata": {
  "kernelspec": {
   "display_name": "PythonData",
   "language": "python",
   "name": "pythondata"
  },
  "language_info": {
   "codemirror_mode": {
    "name": "ipython",
    "version": 3
   },
   "file_extension": ".py",
   "mimetype": "text/x-python",
   "name": "python",
   "nbconvert_exporter": "python",
   "pygments_lexer": "ipython3",
   "version": "3.7.10"
  }
 },
 "nbformat": 4,
 "nbformat_minor": 5
}
