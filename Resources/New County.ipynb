{
 "cells": [
  {
   "cell_type": "code",
   "execution_count": 16,
   "id": "630e263a",
   "metadata": {},
   "outputs": [],
   "source": [
    "import sys\n",
    "import requests \n",
    "import pandas as pd"
   ]
  },
  {
   "cell_type": "code",
   "execution_count": 8,
   "id": "51533184",
   "metadata": {},
   "outputs": [
    {
     "data": {
      "text/plain": [
       "['C:\\\\Users\\\\Getli\\\\OneDrive\\\\Documents\\\\DABC-CU\\\\Final_Project',\n",
       " 'C:\\\\Users\\\\Getli\\\\anaconda3\\\\envs\\\\PythonData\\\\python37.zip',\n",
       " 'C:\\\\Users\\\\Getli\\\\anaconda3\\\\envs\\\\PythonData\\\\DLLs',\n",
       " 'C:\\\\Users\\\\Getli\\\\anaconda3\\\\envs\\\\PythonData\\\\lib',\n",
       " 'C:\\\\Users\\\\Getli\\\\anaconda3\\\\envs\\\\PythonData',\n",
       " '',\n",
       " 'C:\\\\Users\\\\Getli\\\\anaconda3\\\\envs\\\\PythonData\\\\lib\\\\site-packages',\n",
       " 'C:\\\\Users\\\\Getli\\\\anaconda3\\\\envs\\\\PythonData\\\\lib\\\\site-packages\\\\win32',\n",
       " 'C:\\\\Users\\\\Getli\\\\anaconda3\\\\envs\\\\PythonData\\\\lib\\\\site-packages\\\\win32\\\\lib',\n",
       " 'C:\\\\Users\\\\Getli\\\\anaconda3\\\\envs\\\\PythonData\\\\lib\\\\site-packages\\\\Pythonwin',\n",
       " 'C:\\\\Users\\\\Getli\\\\anaconda3\\\\envs\\\\PythonData\\\\lib\\\\site-packages\\\\IPython\\\\extensions',\n",
       " 'C:\\\\Users\\\\Getli\\\\.ipython']"
      ]
     },
     "execution_count": 8,
     "metadata": {},
     "output_type": "execute_result"
    }
   ],
   "source": [
    "sys.path"
   ]
  },
  {
   "cell_type": "code",
   "execution_count": 9,
   "id": "d1e9b575",
   "metadata": {},
   "outputs": [],
   "source": [
    "# Import the API key.\n",
    "from config import API_covid_county"
   ]
  },
  {
   "cell_type": "code",
   "execution_count": 4,
   "id": "ba4c20e0",
   "metadata": {},
   "outputs": [],
   "source": [
    "#url = \"https://api.covidactnow.org/v2/county/36061.json?apiKey=\" + "
   ]
  },
  {
   "cell_type": "code",
   "execution_count": 10,
   "id": "4524c4f8",
   "metadata": {},
   "outputs": [],
   "source": [
    "url = \"https://api.covidactnow.org/v2/county/NY.csv?apiKey=\" + API_covid_county          "
   ]
  },
  {
   "cell_type": "code",
   "execution_count": 11,
   "id": "bdfdd6f1",
   "metadata": {},
   "outputs": [],
   "source": [
    "result = requests.get(url)"
   ]
  },
  {
   "cell_type": "code",
   "execution_count": 12,
   "id": "3f2b5cf9",
   "metadata": {},
   "outputs": [
    {
     "data": {
      "text/plain": [
       "200"
      ]
     },
     "execution_count": 12,
     "metadata": {},
     "output_type": "execute_result"
    }
   ],
   "source": [
    "result.status_code"
   ]
  },
  {
   "cell_type": "code",
   "execution_count": 13,
   "id": "acfc1c04",
   "metadata": {},
   "outputs": [
    {
     "data": {
      "text/plain": [
       "'fips,country,state,county,level,lat,locationId,long,population,metrics.testPositivityRatio,metrics.testPositivityRatioDetails.source,metrics.caseDensity,metrics.contactTracerCapacityRatio,metrics.infectionRate,metrics.infectionRateCI90,unused1,unused2,metrics.icuCapacityRatio,riskLevels.overall,riskLevels.testPositivityRatio,riskLevels.caseDensity,riskLevels.contactTracerCapacityRatio,riskLevels.infectionRate,unused3,riskLevels.icuCapacityRatio,actuals.cases,actuals.deaths,actuals.positiveTests,actuals.negativeTests,actuals.contactTracers,actuals.hospitalBeds.capacity,actuals.hospitalBeds.currentUsageTotal,actuals.hospitalBeds.currentUsageCovid,unused4,actuals.icuBeds.capacity,actuals.icuBeds.currentUsageTotal,actuals.icuBeds.currentUsageCovid,unused5,actuals.newCases,actuals.vaccinesDistributed,actuals.vaccinationsInitiated,actuals.vaccinationsCompleted,lastUpdatedDate,url,metrics.vaccinationsInitiatedRatio,metrics.vaccinationsCompletedRatio,actuals.newDeaths,actuals.vaccinesAdministered,cdcTransmissionLevel\\r\\n36001,US,NY,Albany County,county,,iso1:us#iso2:us-ny#fips:36001,,305506,0.04,other,26.7,,1.0,0.16,,,0.78,3,1,3,4,1,,1,31485,392,,,,1134,1024,77,,131,102,19,,112,,218525,204571,2021-10-30,https://covidactnow.org/us/new_york-ny/county/albany_county,0.715,0.67,0,,3\\r\\n36003,US,NY,Allegany County,county,,iso1:us#iso2:us-ny#fips:36003,,46091,0.146,other,64.2,,1.08,0.31,,,0.76,3,2,3,4,1,,1,4848,101,,,,56,31,6,,6,4,2,,55,,18972,17806,2021-10-30,https://covidactnow.org/us/new_york-ny/county/allegany_county,0.412,0.386,1,,3\\r\\n36005,US,NY,Bronx County,county,,iso1:us#iso2:us-ny#fips:36005,,1418207,0.012,other,6.7,,0.86,0.13,,,0.81,1,0,1,4,0,,2,199668,6748,,,,3568,2747,60,,350,284,20,,105,,991324,863093,2021-10-30,,0.699,0.609,0,,1\\r\\n36007,US,NY,Broome County,county,,iso1:us#iso2:us-ny#fips:36007,,190488,0.102,other,46.0,,0.98,0.15,,,0.74,3,2,3,4,1,,1,25166,410,,,,663,422,95,,59,43,10,,108,,116480,110050,2021-10-30,https://covidactnow.org/us/new_york-ny/county/broome_county,0.611,0.578,1,,3\\r\\n36009,US,NY,Cattaraugus County,county,,iso1:us#iso2:us-ny#fips:36009,,76117,0.125,other,67.8,,1.11,0.22,,,0.51,3,2,3,4,2,,0,8113,124,,,,216,136,41,,14,7,5,,81,,41035,37794,2021-10-30,https://covidactnow.org/us/new_york-ny/county/cattaraugus_county,0.539,0.497,3,,3\\r\\n36011,US,NY,Cayuga County,county,,iso1:us#iso2:us-ny#fips:36011,,76576,0.053,other,28.5,,0.9,0.31,,,0.45,3,1,3,4,0,,0,8827,107,,,,124,93,16,,19,8,2,,40,,43315,41082,2021-10-30,https://covidactnow.org/us/new_york-ny/county/cayuga_county,0.566,0.536,0,,3\\r\\n36013,US,NY,Chautauqua County,county,,iso1:us#iso2:us-ny#fips:36013,,126903,0.074,other,31.4,,0.97,0.25,,,0.59,3,1,3,4,1,,0,12728,178,,,,150,138,25,,21,12,5,,67,,73059,66960,2021-10-30,https://covidactnow.org/us/new_york-ny/county/chautauqua_county,0.576,0.528,1,,3\\r\\n36015,US,NY,Chemung County,county,,iso1:us#iso2:us-ny#fips:36015,,83456,0.07,other,52.9,,0.87,0.2,,,0.81,3,1,3,4,0,,2,11275,164,,,,145,119,32,,20,16,11,,68,,48414,44302,2021-10-30,https://covidactnow.org/us/new_york-ny/county/chemung_county,0.58,0.531,2,,3\\r\\n36017,US,NY,Chenango County,county,,iso1:us#iso2:us-ny#fips:36017,,47207,0.069,other,30.0,,0.84,0.38,,,0.62,3,1,3,4,0,,0,4805,88,,,,15,9,0,,3,1,0,,23,,27641,25988,2021-10-30,https://covidactnow.org/us/new_york-ny/county/chenango_county,0.586,0.551,0,,3\\r\\n36019,US,NY,Clinton County,county,,iso1:us#iso2:us-ny#fips:36019,,80485,0.041,other,37.6,,0.97,0.28,,,0.95,3,1,3,4,1,,3,6962,41,,,,168,162,21,,11,10,4,,53,,55257,52895,2021-10-30,https://covidactnow.org/us/new_york-ny/county/clinton_county,0.687,0.657,0,,3\\r\\n36021,US,NY,Columbia County,county,,iso1:us#iso2:us-ny#fips:36021,,59461,0.046,other,19.2,,0.92,0.48,,,0.81,2,1,2,4,1,,2,5105,112,,,,90,76,8,,6,4,1,,24,,43790,40054,2021-10-30,https://covidactnow.org/us/new_york-ny/county/columbia_county,0.736,0.674,0,,3\\r\\n36023,US,NY,Cortland County,county,,iso1:us#iso2:us-ny#fips:36023,,47581,0.06,other,42.3,,1.0,0.38,,,0.61,3,1,3,4,1,,0,5498,83,,,,52,50,5,,12,7,2,,31,,27008,25476,2021-10-30,https://covidactnow.org/us/new_york-ny/county/cortland_county,0.568,0.535,0,,3\\r\\n36025,US,NY,Delaware County,county,,iso1:us#iso2:us-ny#fips:36025,,44135,0.054,other,28.5,,0.83,0.42,,,,3,1,3,4,0,,4,3662,48,,,,43,25,1,,,,,,21,,24790,23019,2021-10-30,https://covidactnow.org/us/new_york-ny/county/delaware_county,0.562,0.522,0,,3\\r\\n36027,US,NY,Dutchess County,county,,iso1:us#iso2:us-ny#fips:36027,,294218,0.032,other,15.1,,0.89,0.2,,,0.76,2,1,2,4,0,,1,35983,500,,,,471,369,19,,38,29,3,,54,,200527,183520,2021-10-30,https://covidactnow.org/us/new_york-ny/county/dutchess_county,0.682,0.624,0,,3\\r\\n36029,US,NY,Erie County,county,,iso1:us#iso2:us-ny#fips:36029,,918702,0.052,other,33.5,,1.06,0.1,,,0.66,3,1,3,4,1,,0,108734,1964,,,,2094,1668,120,,337,221,28,,510,,611265,571383,2021-10-30,https://covidactnow.org/us/new_york-ny/county/erie_county,0.665,0.622,0,,3\\r\\n36031,US,NY,Essex County,county,,iso1:us#iso2:us-ny#fips:36031,,36885,0.033,other,41.1,,1.02,0.41,,,,3,1,3,4,1,,4,2441,35,,,,18,17,2,,,,,,27,,25287,23924,2021-10-30,https://covidactnow.org/us/new_york-ny/county/essex_county,0.686,0.649,0,,3\\r\\n36033,US,NY,Franklin County,county,,iso1:us#iso2:us-ny#fips:36033,,50022,0.057,other,42.3,,0.94,0.32,,,0.54,3,1,3,4,1,,0,4448,22,,,,89,59,9,,12,6,2,,27,,30688,28935,2021-10-30,https://covidactnow.org/us/new_york-ny/county/franklin_county,0.613,0.578,0,,3\\r\\n36035,US,NY,Fulton County,county,,iso1:us#iso2:us-ny#fips:36035,,53383,0.085,other,62.1,,1.01,0.28,,,,3,1,3,4,1,,4,6597,104,,,,42,28,0,,8,5,1,,55,,27663,26061,2021-10-30,https://covidactnow.org/us/new_york-ny/county/fulton_county,0.518,0.488,0,,3\\r\\n36037,US,NY,Genesee County,county,,iso1:us#iso2:us-ny#fips:36037,,57280,0.088,other,59.4,,1.01,0.27,,,0.58,3,1,3,4,1,,0,7276,132,,,,82,55,13,,9,5,4,,69,,33064,30998,2021-10-30,https://covidactnow.org/us/new_york-ny/county/genesee_county,0.577,0.541,0,,3\\r\\n36039,US,NY,Greene County,county,,iso1:us#iso2:us-ny#fips:36039,,47188,0.036,other,24.8,,0.87,0.46,,,,2,1,2,4,0,,4,4483,87,,,,,,,,,,,,23,,29043,26687,2021-10-30,https://covidactnow.org/us/new_york-ny/county/greene_county,0.615,0.566,0,,3\\r\\n36041,US,NY,Hamilton County,county,,iso1:us#iso2:us-ny#fips:36041,,4416,0.015,other,19.4,,1.15,1.06,,,,2,0,2,4,2,,4,444,3,,,,,,,,,,,,2,,3767,3474,2021-10-30,https://covidactnow.org/us/new_york-ny/county/hamilton_county,0.853,0.787,0,,3\\r\\n36043,US,NY,Herkimer County,county,,iso1:us#iso2:us-ny#fips:36043,,61319,0.073,other,45.9,,0.98,0.27,,,,3,1,3,4,1,,4,7028,129,,,,18,17,4,,,,,,34,,34872,32660,2021-10-30,https://covidactnow.org/us/new_york-ny/county/herkimer_county,0.569,0.533,0,,3\\r\\n36045,US,NY,Jefferson County,county,,iso1:us#iso2:us-ny#fips:36045,,109834,0.064,other,48.5,,1.03,0.2,,,0.64,3,1,3,4,1,,0,9297,80,,,,200,138,2,,9,6,1,,98,,80220,68894,2021-10-30,https://covidactnow.org/us/new_york-ny/county/jefferson_county,0.73,0.627,0,,3\\r\\n36047,US,NY,Kings County,county,,iso1:us#iso2:us-ny#fips:36047,,2559903,0.016,other,11.8,,0.86,0.1,,,0.83,2,0,2,4,0,,2,329399,10855,,,,3709,2954,135,,326,269,22,,438,,1727155,1525336,2021-10-30,,0.675,0.596,0,,2\\r\\n36049,US,NY,Lewis County,county,,iso1:us#iso2:us-ny#fips:36049,,26296,0.061,other,45.1,,0.89,0.43,,,0.26,3,1,3,4,0,,0,3704,39,,,,25,12,4,,6,1,1,,12,,12870,12333,2021-10-30,https://covidactnow.org/us/new_york-ny/county/lewis_county,0.489,0.469,1,,3\\r\\n36051,US,NY,Livingston County,county,,iso1:us#iso2:us-ny#fips:36051,,62914,0.072,other,37.0,,1.07,0.33,,,0.7,3,1,3,4,1,,0,5918,71,,,,45,42,3,,8,5,1,,31,,35928,33955,2021-10-30,https://covidactnow.org/us/new_york-ny/county/livingston_county,0.571,0.54,0,,3\\r\\n36053,US,NY,Madison County,county,,iso1:us#iso2:us-ny#fips:36053,,70941,0.07,other,34.2,,0.95,0.29,,,0.93,3,1,3,4,1,,3,6390,104,,,,49,46,12,,6,5,3,,25,,41678,39368,2021-10-30,https://covidactnow.org/us/new_york-ny/county/madison_county,0.588,0.555,0,,3\\r\\n36055,US,NY,Monroe County,county,,iso1:us#iso2:us-ny#fips:36055,,741770,0.056,other,28.1,,0.98,0.1,,,0.75,3,1,3,4,1,,1,85994,1196,,,,2079,1975,144,,226,168,26,,320,,507725,480962,2021-10-30,https://covidactnow.org/us/new_york-ny/county/monroe_county,0.684,0.648,2,,3\\r\\n36057,US,NY,Montgomery County,county,,iso1:us#iso2:us-ny#fips:36057,,49221,0.078,other,55.4,,0.94,0.28,,,0.92,3,1,3,4,1,,3,6184,150,,,,134,112,27,,15,14,10,,48,,31504,29584,2021-10-30,https://covidactnow.org/us/new_york-ny/county/montgomery_county,0.64,0.601,1,,3\\r\\n36059,US,NY,Nassau County,county,,iso1:us#iso2:us-ny#fips:36059,,1356924,0.023,other,13.6,,0.9,0.1,,,0.65,2,0,2,4,0,,0,215863,3305,,,,3106,2358,111,,371,239,24,,199,,1089109,969211,2021-10-30,https://covidactnow.org/us/new_york-ny/county/nassau_county,0.803,0.714,2,,2\\r\\n36061,US,NY,New York County,county,,iso1:us#iso2:us-ny#fips:36061,,1628706,0.01,other,9.4,,0.89,0.1,,,0.82,1,0,1,4,0,,2,169180,4635,,,,9945,8332,219,,988,808,48,,235,,1389133,1202008,2021-10-30,https://covidactnow.org/us/new_york-ny/county/bronx_county,0.853,0.738,0,,2\\r\\n36063,US,NY,Niagara County,county,,iso1:us#iso2:us-ny#fips:36063,,209281,0.054,other,36.0,,1.04,0.18,,,0.81,3,1,3,4,1,,2,24604,400,,,,183,135,16,,20,16,6,,125,,133755,125421,2021-10-30,https://covidactnow.org/us/new_york-ny/county/niagara_county,0.639,0.599,1,,3\\r\\n36065,US,NY,Oneida County,county,,iso1:us#iso2:us-ny#fips:36065,,228671,0.051,other,31.4,,0.89,0.16,,,0.8,3,1,3,4,0,,1,29222,597,,,,485,381,57,,51,41,9,,110,,136770,127281,2021-10-30,https://covidactnow.org/us/new_york-ny/county/oneida_county,0.598,0.557,0,,3\\r\\n36067,US,NY,Onondaga County,county,,iso1:us#iso2:us-ny#fips:36067,,460528,0.058,other,37.6,,0.91,0.1,,,0.8,3,1,3,4,1,,1,53379,771,,,,1295,1132,120,,189,151,30,,305,,323501,305675,2021-10-30,https://covidactnow.org/us/new_york-ny/county/onondaga_county,0.702,0.664,1,,3\\r\\n36069,US,NY,Ontario County,county,,iso1:us#iso2:us-ny#fips:36069,,109777,0.054,other,28.6,,1.04,0.28,,,0.75,3,1,3,4,1,,1,9598,111,,,,237,193,29,,32,24,9,,45,,71206,67800,2021-10-30,https://covidactnow.org/us/new_york-ny/county/ontario_county,0.649,0.618,0,,3\\r\\n36071,US,NY,Orange County,county,,iso1:us#iso2:us-ny#fips:36071,,384940,0.038,other,19.6,,0.88,0.15,,,0.38,2,1,2,4,0,,0,58164,780,,,,774,574,51,,136,51,11,,86,,247841,225715,2021-10-30,https://covidactnow.org/us/new_york-ny/county/orange_county,0.644,0.586,1,,3\\r\\n36073,US,NY,Orleans County,county,,iso1:us#iso2:us-ny#fips:36073,,40352,0.08,other,52.8,,0.91,0.35,,,,3,1,3,4,1,,4,4504,90,,,,18,10,1,,,,,,34,,21441,20059,2021-10-30,https://covidactnow.org/us/new_york-ny/county/orleans_county,0.531,0.497,0,,3\\r\\n36075,US,NY,Oswego County,county,,iso1:us#iso2:us-ny#fips:36075,,117124,0.08,other,48.8,,0.9,0.18,,,0.46,3,1,3,4,0,,0,12108,117,,,,118,80,13,,17,7,5,,80,,66403,62972,2021-10-30,https://covidactnow.org/us/new_york-ny/county/oswego_county,0.567,0.538,1,,3\\r\\n36077,US,NY,Otsego County,county,,iso1:us#iso2:us-ny#fips:36077,,59493,0.046,other,26.4,,0.96,0.41,,,0.94,3,1,3,4,1,,3,4702,55,,,,217,169,14,,30,28,3,,25,,35049,33045,2021-10-30,https://covidactnow.org/us/new_york-ny/county/otsego_county,0.589,0.555,0,,3\\r\\n36079,US,NY,Putnam County,county,,iso1:us#iso2:us-ny#fips:36079,,98320,0.028,other,16.1,,0.83,0.35,,,0.66,2,0,2,4,0,,0,12620,98,,,,127,64,6,,10,6,2,,20,,70010,64453,2021-10-30,https://covidactnow.org/us/new_york-ny/county/putnam_county,0.712,0.656,0,,3\\r\\n36081,US,NY,Queens County,county,,iso1:us#iso2:us-ny#fips:36081,,2253858,0.014,other,7.6,,0.85,0.1,,,0.64,1,0,1,4,0,,0,309434,10282,,,,3558,2876,124,,304,194,33,,213,,1865974,1662688,2021-10-30,,0.828,0.738,0,,2\\r\\n36083,US,NY,Rensselaer County,county,,iso1:us#iso2:us-ny#fips:36083,,158714,0.046,other,33.7,,1.0,0.21,,,0.78,3,1,3,4,1,,1,15213,172,,,,174,161,21,,20,15,4,,86,,107895,100591,2021-10-30,https://covidactnow.org/us/new_york-ny/county/rensselaer_county,0.68,0.634,0,,3\\r\\n36085,US,NY,Richmond County,county,,iso1:us#iso2:us-ny#fips:36085,,476143,0.025,other,15.7,,0.94,0.15,,,0.63,2,0,2,4,1,,0,88507,1942,,,,927,819,37,,178,111,19,,95,,332000,299721,2021-10-30,,0.697,0.629,0,,3\\r\\n36087,US,NY,Rockland County,county,,iso1:us#iso2:us-ny#fips:36087,,325789,0.029,other,17.2,,0.9,0.18,,,0.37,2,0,2,4,0,,0,53571,780,,,,541,360,16,,103,38,2,,53,,203419,184249,2021-10-30,https://covidactnow.org/us/new_york-ny/county/rockland_county,0.624,0.566,1,,3\\r\\n36089,US,NY,St. Lawrence County,county,,iso1:us#iso2:us-ny#fips:36089,,107740,0.066,other,49.7,,0.95,0.19,,,0.94,3,1,3,4,1,,3,10973,131,,,,195,140,21,,18,17,9,,72,,62268,59176,2021-10-30,https://covidactnow.org/us/new_york-ny/county/st_lawrence_county,0.578,0.549,0,,3\\r\\n36091,US,NY,Saratoga County,county,,iso1:us#iso2:us-ny#fips:36091,,229863,0.035,other,31.1,,1.03,0.18,,,0.83,3,1,3,4,1,,2,20842,208,,,,183,188,17,,19,15,6,,122,,174744,163640,2021-10-30,https://covidactnow.org/us/new_york-ny/county/saratoga_county,0.76,0.712,1,,3\\r\\n36093,US,NY,Schenectady County,county,,iso1:us#iso2:us-ny#fips:36093,,155299,0.054,other,39.5,,1.04,0.19,,,0.89,3,1,3,4,1,,3,17208,230,,,,431,322,22,,36,32,5,,96,,107820,100394,2021-10-30,https://covidactnow.org/us/new_york-ny/county/schenectady_county,0.694,0.646,1,,3\\r\\n36095,US,NY,Schoharie County,county,,iso1:us#iso2:us-ny#fips:36095,,30999,0.058,other,30.9,,0.9,0.58,,,,3,1,3,4,0,,4,2368,23,,,,18,16,1,,,,,,8,,16905,15985,2021-10-30,https://covidactnow.org/us/new_york-ny/county/schoharie_county,0.545,0.516,0,,3\\r\\n36097,US,NY,Schuyler County,county,,iso1:us#iso2:us-ny#fips:36097,,17807,0.054,other,37.7,,0.75,0.56,,,,3,1,3,4,0,,4,1591,17,,,,12,8,1,,,,,,13,,10805,10173,2021-10-30,https://covidactnow.org/us/new_york-ny/county/schuyler_county,0.607,0.571,0,,3\\r\\n36099,US,NY,Seneca County,county,,iso1:us#iso2:us-ny#fips:36099,,34016,0.034,other,18.5,,0.74,0.61,,,,2,1,2,4,0,,4,2790,63,,,,,,,,,,,,9,,17617,16636,2021-10-30,https://covidactnow.org/us/new_york-ny/county/seneca_county,0.518,0.489,0,,3\\r\\n36101,US,NY,Steuben County,county,,iso1:us#iso2:us-ny#fips:36101,,95379,0.071,other,46.9,,0.9,0.21,,,0.91,3,1,3,4,0,,3,10498,175,,,,99,91,23,,8,7,3,,71,,55090,50653,2021-10-30,https://covidactnow.org/us/new_york-ny/county/steuben_county,0.578,0.531,1,,3\\r\\n36103,US,NY,Suffolk County,county,,iso1:us#iso2:us-ny#fips:36103,,1476601,0.027,other,18.3,,0.88,0.1,,,0.66,2,0,2,4,0,,0,241767,3624,,,,2830,2257,173,,386,253,34,,245,,1085391,993698,2021-10-30,https://covidactnow.org/us/new_york-ny/county/suffolk_county,0.735,0.673,3,,3\\r\\n36105,US,NY,Sullivan County,county,,iso1:us#iso2:us-ny#fips:36105,,75432,0.038,other,25.8,,0.92,0.32,,,0.32,3,1,3,4,1,,0,8634,83,,,,105,80,3,,19,6,1,,26,,44138,40470,2021-10-30,https://covidactnow.org/us/new_york-ny/county/sullivan_county,0.585,0.537,0,,3\\r\\n36107,US,NY,Tioga County,county,,iso1:us#iso2:us-ny#fips:36107,,48203,0.094,other,53.3,,1.0,0.3,,,,3,1,3,4,1,,4,5310,72,,,,,,,,,,,,35,,28657,26202,2021-10-30,https://covidactnow.org/us/new_york-ny/county/tioga_county,0.595,0.544,0,,3\\r\\n36109,US,NY,Tompkins County,county,,iso1:us#iso2:us-ny#fips:36109,,102180,0.012,other,17.2,,0.95,0.37,,,0.9,2,0,2,4,1,,3,6649,59,,,,162,116,10,,11,10,2,,24,,78233,72815,2021-10-30,https://covidactnow.org/us/new_york-ny/county/tompkins_county,0.766,0.713,0,,3\\r\\n36111,US,NY,Ulster County,county,,iso1:us#iso2:us-ny#fips:36111,,177573,0.03,other,16.0,,0.96,0.28,,,0.46,2,0,2,4,1,,0,17499,283,,,,140,97,7,,13,6,2,,41,,125242,115369,2021-10-30,https://covidactnow.org/us/new_york-ny/county/ulster_county,0.705,0.65,0,,3\\r\\n36113,US,NY,Warren County,county,,iso1:us#iso2:us-ny#fips:36113,,63944,0.042,other,51.2,,1.05,0.28,,,1.0,3,1,3,4,1,,3,5730,86,,,,196,191,23,,14,14,6,,50,,47709,44934,2021-10-30,https://covidactnow.org/us/new_york-ny/county/warren_county,0.746,0.703,0,,3\\r\\n36115,US,NY,Washington County,county,,iso1:us#iso2:us-ny#fips:36115,,61204,0.054,other,45.0,,1.05,0.3,,,,3,1,3,4,1,,4,4834,69,,,,,,,,,,,,29,,39120,36474,2021-10-30,https://covidactnow.org/us/new_york-ny/county/washington_county,0.639,0.596,0,,3\\r\\n36117,US,NY,Wayne County,county,,iso1:us#iso2:us-ny#fips:36117,,89918,0.075,other,42.6,,0.94,0.23,,,0.82,3,1,3,4,1,,2,8470,87,,,,94,58,10,,9,7,2,,47,,53453,50699,2021-10-30,https://covidactnow.org/us/new_york-ny/county/wayne_county,0.594,0.564,0,,3\\r\\n36119,US,NY,Westchester County,county,,iso1:us#iso2:us-ny#fips:36119,,967506,0.013,other,7.9,,0.93,0.16,,,0.58,1,0,1,4,1,,0,144251,2347,,,,2360,1766,47,,233,134,7,,88,,760174,679332,2021-10-30,https://covidactnow.org/us/new_york-ny/county/westchester_county,0.786,0.702,1,,2\\r\\n36121,US,NY,Wyoming County,county,,iso1:us#iso2:us-ny#fips:36121,,39859,0.032,other,25.4,,0.76,0.43,,,0.9,3,1,3,4,0,,3,4478,59,,,,64,50,4,,7,6,1,,17,,19513,18385,2021-10-30,https://covidactnow.org/us/new_york-ny/county/wyoming_county,0.49,0.461,1,,3\\r\\n36123,US,NY,Yates County,county,,iso1:us#iso2:us-ny#fips:36123,,24913,0.065,other,27.0,,0.81,0.48,,,,3,1,3,4,0,,4,1704,29,,,,18,10,1,,,,,,9,,12713,11857,2021-10-30,https://covidactnow.org/us/new_york-ny/county/yates_county,0.51,0.476,0,,3\\r\\n'"
      ]
     },
     "execution_count": 13,
     "metadata": {},
     "output_type": "execute_result"
    }
   ],
   "source": [
    "result.text"
   ]
  },
  {
   "cell_type": "code",
   "execution_count": 15,
   "id": "9c5c0745",
   "metadata": {},
   "outputs": [],
   "source": [
    "with open(\"county_data.csv\",\"w\") as file:\n",
    "    file.write(result.text)"
   ]
  },
  {
   "cell_type": "code",
   "execution_count": 17,
   "id": "98034658",
   "metadata": {},
   "outputs": [],
   "source": [
    "data = pd.read_csv(\"county_data.csv\")"
   ]
  },
  {
   "cell_type": "code",
   "execution_count": 18,
   "id": "6b8c5625",
   "metadata": {},
   "outputs": [
    {
     "data": {
      "text/html": [
       "<div>\n",
       "<style scoped>\n",
       "    .dataframe tbody tr th:only-of-type {\n",
       "        vertical-align: middle;\n",
       "    }\n",
       "\n",
       "    .dataframe tbody tr th {\n",
       "        vertical-align: top;\n",
       "    }\n",
       "\n",
       "    .dataframe thead th {\n",
       "        text-align: right;\n",
       "    }\n",
       "</style>\n",
       "<table border=\"1\" class=\"dataframe\">\n",
       "  <thead>\n",
       "    <tr style=\"text-align: right;\">\n",
       "      <th></th>\n",
       "      <th>fips</th>\n",
       "      <th>country</th>\n",
       "      <th>state</th>\n",
       "      <th>county</th>\n",
       "      <th>level</th>\n",
       "      <th>lat</th>\n",
       "      <th>locationId</th>\n",
       "      <th>long</th>\n",
       "      <th>population</th>\n",
       "      <th>metrics.testPositivityRatio</th>\n",
       "      <th>...</th>\n",
       "      <th>actuals.vaccinesDistributed</th>\n",
       "      <th>actuals.vaccinationsInitiated</th>\n",
       "      <th>actuals.vaccinationsCompleted</th>\n",
       "      <th>lastUpdatedDate</th>\n",
       "      <th>url</th>\n",
       "      <th>metrics.vaccinationsInitiatedRatio</th>\n",
       "      <th>metrics.vaccinationsCompletedRatio</th>\n",
       "      <th>actuals.newDeaths</th>\n",
       "      <th>actuals.vaccinesAdministered</th>\n",
       "      <th>cdcTransmissionLevel</th>\n",
       "    </tr>\n",
       "  </thead>\n",
       "  <tbody>\n",
       "    <tr>\n",
       "      <th>0</th>\n",
       "      <td>36001</td>\n",
       "      <td>US</td>\n",
       "      <td>NY</td>\n",
       "      <td>Albany County</td>\n",
       "      <td>county</td>\n",
       "      <td>NaN</td>\n",
       "      <td>iso1:us#iso2:us-ny#fips:36001</td>\n",
       "      <td>NaN</td>\n",
       "      <td>305506</td>\n",
       "      <td>0.040</td>\n",
       "      <td>...</td>\n",
       "      <td>NaN</td>\n",
       "      <td>218525</td>\n",
       "      <td>204571</td>\n",
       "      <td>2021-10-30</td>\n",
       "      <td>https://covidactnow.org/us/new_york-ny/county/...</td>\n",
       "      <td>0.715</td>\n",
       "      <td>0.670</td>\n",
       "      <td>0</td>\n",
       "      <td>NaN</td>\n",
       "      <td>3</td>\n",
       "    </tr>\n",
       "    <tr>\n",
       "      <th>1</th>\n",
       "      <td>36003</td>\n",
       "      <td>US</td>\n",
       "      <td>NY</td>\n",
       "      <td>Allegany County</td>\n",
       "      <td>county</td>\n",
       "      <td>NaN</td>\n",
       "      <td>iso1:us#iso2:us-ny#fips:36003</td>\n",
       "      <td>NaN</td>\n",
       "      <td>46091</td>\n",
       "      <td>0.146</td>\n",
       "      <td>...</td>\n",
       "      <td>NaN</td>\n",
       "      <td>18972</td>\n",
       "      <td>17806</td>\n",
       "      <td>2021-10-30</td>\n",
       "      <td>https://covidactnow.org/us/new_york-ny/county/...</td>\n",
       "      <td>0.412</td>\n",
       "      <td>0.386</td>\n",
       "      <td>1</td>\n",
       "      <td>NaN</td>\n",
       "      <td>3</td>\n",
       "    </tr>\n",
       "    <tr>\n",
       "      <th>2</th>\n",
       "      <td>36005</td>\n",
       "      <td>US</td>\n",
       "      <td>NY</td>\n",
       "      <td>Bronx County</td>\n",
       "      <td>county</td>\n",
       "      <td>NaN</td>\n",
       "      <td>iso1:us#iso2:us-ny#fips:36005</td>\n",
       "      <td>NaN</td>\n",
       "      <td>1418207</td>\n",
       "      <td>0.012</td>\n",
       "      <td>...</td>\n",
       "      <td>NaN</td>\n",
       "      <td>991324</td>\n",
       "      <td>863093</td>\n",
       "      <td>2021-10-30</td>\n",
       "      <td>NaN</td>\n",
       "      <td>0.699</td>\n",
       "      <td>0.609</td>\n",
       "      <td>0</td>\n",
       "      <td>NaN</td>\n",
       "      <td>1</td>\n",
       "    </tr>\n",
       "    <tr>\n",
       "      <th>3</th>\n",
       "      <td>36007</td>\n",
       "      <td>US</td>\n",
       "      <td>NY</td>\n",
       "      <td>Broome County</td>\n",
       "      <td>county</td>\n",
       "      <td>NaN</td>\n",
       "      <td>iso1:us#iso2:us-ny#fips:36007</td>\n",
       "      <td>NaN</td>\n",
       "      <td>190488</td>\n",
       "      <td>0.102</td>\n",
       "      <td>...</td>\n",
       "      <td>NaN</td>\n",
       "      <td>116480</td>\n",
       "      <td>110050</td>\n",
       "      <td>2021-10-30</td>\n",
       "      <td>https://covidactnow.org/us/new_york-ny/county/...</td>\n",
       "      <td>0.611</td>\n",
       "      <td>0.578</td>\n",
       "      <td>1</td>\n",
       "      <td>NaN</td>\n",
       "      <td>3</td>\n",
       "    </tr>\n",
       "    <tr>\n",
       "      <th>4</th>\n",
       "      <td>36009</td>\n",
       "      <td>US</td>\n",
       "      <td>NY</td>\n",
       "      <td>Cattaraugus County</td>\n",
       "      <td>county</td>\n",
       "      <td>NaN</td>\n",
       "      <td>iso1:us#iso2:us-ny#fips:36009</td>\n",
       "      <td>NaN</td>\n",
       "      <td>76117</td>\n",
       "      <td>0.125</td>\n",
       "      <td>...</td>\n",
       "      <td>NaN</td>\n",
       "      <td>41035</td>\n",
       "      <td>37794</td>\n",
       "      <td>2021-10-30</td>\n",
       "      <td>https://covidactnow.org/us/new_york-ny/county/...</td>\n",
       "      <td>0.539</td>\n",
       "      <td>0.497</td>\n",
       "      <td>3</td>\n",
       "      <td>NaN</td>\n",
       "      <td>3</td>\n",
       "    </tr>\n",
       "  </tbody>\n",
       "</table>\n",
       "<p>5 rows × 49 columns</p>\n",
       "</div>"
      ],
      "text/plain": [
       "    fips country state              county   level  lat  \\\n",
       "0  36001      US    NY       Albany County  county  NaN   \n",
       "1  36003      US    NY     Allegany County  county  NaN   \n",
       "2  36005      US    NY        Bronx County  county  NaN   \n",
       "3  36007      US    NY       Broome County  county  NaN   \n",
       "4  36009      US    NY  Cattaraugus County  county  NaN   \n",
       "\n",
       "                      locationId  long  population  \\\n",
       "0  iso1:us#iso2:us-ny#fips:36001   NaN      305506   \n",
       "1  iso1:us#iso2:us-ny#fips:36003   NaN       46091   \n",
       "2  iso1:us#iso2:us-ny#fips:36005   NaN     1418207   \n",
       "3  iso1:us#iso2:us-ny#fips:36007   NaN      190488   \n",
       "4  iso1:us#iso2:us-ny#fips:36009   NaN       76117   \n",
       "\n",
       "   metrics.testPositivityRatio  ... actuals.vaccinesDistributed  \\\n",
       "0                        0.040  ...                         NaN   \n",
       "1                        0.146  ...                         NaN   \n",
       "2                        0.012  ...                         NaN   \n",
       "3                        0.102  ...                         NaN   \n",
       "4                        0.125  ...                         NaN   \n",
       "\n",
       "   actuals.vaccinationsInitiated  actuals.vaccinationsCompleted  \\\n",
       "0                         218525                         204571   \n",
       "1                          18972                          17806   \n",
       "2                         991324                         863093   \n",
       "3                         116480                         110050   \n",
       "4                          41035                          37794   \n",
       "\n",
       "   lastUpdatedDate                                                url  \\\n",
       "0       2021-10-30  https://covidactnow.org/us/new_york-ny/county/...   \n",
       "1       2021-10-30  https://covidactnow.org/us/new_york-ny/county/...   \n",
       "2       2021-10-30                                                NaN   \n",
       "3       2021-10-30  https://covidactnow.org/us/new_york-ny/county/...   \n",
       "4       2021-10-30  https://covidactnow.org/us/new_york-ny/county/...   \n",
       "\n",
       "   metrics.vaccinationsInitiatedRatio  metrics.vaccinationsCompletedRatio  \\\n",
       "0                               0.715                               0.670   \n",
       "1                               0.412                               0.386   \n",
       "2                               0.699                               0.609   \n",
       "3                               0.611                               0.578   \n",
       "4                               0.539                               0.497   \n",
       "\n",
       "   actuals.newDeaths  actuals.vaccinesAdministered  cdcTransmissionLevel  \n",
       "0                  0                           NaN                     3  \n",
       "1                  1                           NaN                     3  \n",
       "2                  0                           NaN                     1  \n",
       "3                  1                           NaN                     3  \n",
       "4                  3                           NaN                     3  \n",
       "\n",
       "[5 rows x 49 columns]"
      ]
     },
     "execution_count": 18,
     "metadata": {},
     "output_type": "execute_result"
    }
   ],
   "source": [
    "data.head()"
   ]
  },
  {
   "cell_type": "code",
   "execution_count": 19,
   "id": "d22f54fa",
   "metadata": {},
   "outputs": [
    {
     "data": {
      "text/plain": [
       "Index(['fips', 'country', 'state', 'county', 'level', 'lat', 'locationId',\n",
       "       'long', 'population', 'metrics.testPositivityRatio',\n",
       "       'metrics.testPositivityRatioDetails.source', 'metrics.caseDensity',\n",
       "       'metrics.contactTracerCapacityRatio', 'metrics.infectionRate',\n",
       "       'metrics.infectionRateCI90', 'unused1', 'unused2',\n",
       "       'metrics.icuCapacityRatio', 'riskLevels.overall',\n",
       "       'riskLevels.testPositivityRatio', 'riskLevels.caseDensity',\n",
       "       'riskLevels.contactTracerCapacityRatio', 'riskLevels.infectionRate',\n",
       "       'unused3', 'riskLevels.icuCapacityRatio', 'actuals.cases',\n",
       "       'actuals.deaths', 'actuals.positiveTests', 'actuals.negativeTests',\n",
       "       'actuals.contactTracers', 'actuals.hospitalBeds.capacity',\n",
       "       'actuals.hospitalBeds.currentUsageTotal',\n",
       "       'actuals.hospitalBeds.currentUsageCovid', 'unused4',\n",
       "       'actuals.icuBeds.capacity', 'actuals.icuBeds.currentUsageTotal',\n",
       "       'actuals.icuBeds.currentUsageCovid', 'unused5', 'actuals.newCases',\n",
       "       'actuals.vaccinesDistributed', 'actuals.vaccinationsInitiated',\n",
       "       'actuals.vaccinationsCompleted', 'lastUpdatedDate', 'url',\n",
       "       'metrics.vaccinationsInitiatedRatio',\n",
       "       'metrics.vaccinationsCompletedRatio', 'actuals.newDeaths',\n",
       "       'actuals.vaccinesAdministered', 'cdcTransmissionLevel'],\n",
       "      dtype='object')"
      ]
     },
     "execution_count": 19,
     "metadata": {},
     "output_type": "execute_result"
    }
   ],
   "source": [
    "data.columns"
   ]
  },
  {
   "cell_type": "code",
   "execution_count": 20,
   "id": "e3d7bee7",
   "metadata": {},
   "outputs": [],
   "source": [
    "all_data = {}\n",
    "def fetch(row):\n",
    "    fips = str(row[\"fips\"])\n",
    "    population = row[\"population\"]\n",
    "    actual_deaths = row[\"actuals.deaths\"]\n",
    "    actual_vaccinesDistributed = row['actuals.vaccinesDistributed']\n",
    "    actual_vaccinesInitiated = row[\"actuals.vaccinationsInitiated\"]\n",
    "    actual_vaccinesCompleted = row['actuals.vaccinationsCompleted']\n",
    "    \n",
    "    c_data = {}\n",
    "    c_data[\"fips_code\"]=fips\n",
    "    c_data[\"deaths\"]=actual_deaths\n",
    "    c_data[\"population\"]=population\n",
    "    c_data[\"distributed\"]=actual_vaccinesDistributed\n",
    "    c_data[\"initiated\"]=actual_vaccinesInitiated\n",
    "    c_data[\"completed\"]=actual_vaccinesCompleted\n",
    "    \n",
    "    all_data[fips]=c_data\n",
    "    \n",
    "    "
   ]
  },
  {
   "cell_type": "code",
   "execution_count": 21,
   "id": "a5850c98",
   "metadata": {},
   "outputs": [
    {
     "data": {
      "text/plain": [
       "0     None\n",
       "1     None\n",
       "2     None\n",
       "3     None\n",
       "4     None\n",
       "      ... \n",
       "57    None\n",
       "58    None\n",
       "59    None\n",
       "60    None\n",
       "61    None\n",
       "Length: 62, dtype: object"
      ]
     },
     "execution_count": 21,
     "metadata": {},
     "output_type": "execute_result"
    }
   ],
   "source": [
    "data.apply(fetch,axis=1)"
   ]
  },
  {
   "cell_type": "code",
   "execution_count": 22,
   "id": "988ac5e8",
   "metadata": {},
   "outputs": [
    {
     "name": "stdout",
     "output_type": "stream",
     "text": [
      "{'36001': {'fips_code': '36001', 'deaths': 392, 'population': 305506, 'distributed': nan, 'initiated': 218525, 'completed': 204571}, '36003': {'fips_code': '36003', 'deaths': 101, 'population': 46091, 'distributed': nan, 'initiated': 18972, 'completed': 17806}, '36005': {'fips_code': '36005', 'deaths': 6748, 'population': 1418207, 'distributed': nan, 'initiated': 991324, 'completed': 863093}, '36007': {'fips_code': '36007', 'deaths': 410, 'population': 190488, 'distributed': nan, 'initiated': 116480, 'completed': 110050}, '36009': {'fips_code': '36009', 'deaths': 124, 'population': 76117, 'distributed': nan, 'initiated': 41035, 'completed': 37794}, '36011': {'fips_code': '36011', 'deaths': 107, 'population': 76576, 'distributed': nan, 'initiated': 43315, 'completed': 41082}, '36013': {'fips_code': '36013', 'deaths': 178, 'population': 126903, 'distributed': nan, 'initiated': 73059, 'completed': 66960}, '36015': {'fips_code': '36015', 'deaths': 164, 'population': 83456, 'distributed': nan, 'initiated': 48414, 'completed': 44302}, '36017': {'fips_code': '36017', 'deaths': 88, 'population': 47207, 'distributed': nan, 'initiated': 27641, 'completed': 25988}, '36019': {'fips_code': '36019', 'deaths': 41, 'population': 80485, 'distributed': nan, 'initiated': 55257, 'completed': 52895}, '36021': {'fips_code': '36021', 'deaths': 112, 'population': 59461, 'distributed': nan, 'initiated': 43790, 'completed': 40054}, '36023': {'fips_code': '36023', 'deaths': 83, 'population': 47581, 'distributed': nan, 'initiated': 27008, 'completed': 25476}, '36025': {'fips_code': '36025', 'deaths': 48, 'population': 44135, 'distributed': nan, 'initiated': 24790, 'completed': 23019}, '36027': {'fips_code': '36027', 'deaths': 500, 'population': 294218, 'distributed': nan, 'initiated': 200527, 'completed': 183520}, '36029': {'fips_code': '36029', 'deaths': 1964, 'population': 918702, 'distributed': nan, 'initiated': 611265, 'completed': 571383}, '36031': {'fips_code': '36031', 'deaths': 35, 'population': 36885, 'distributed': nan, 'initiated': 25287, 'completed': 23924}, '36033': {'fips_code': '36033', 'deaths': 22, 'population': 50022, 'distributed': nan, 'initiated': 30688, 'completed': 28935}, '36035': {'fips_code': '36035', 'deaths': 104, 'population': 53383, 'distributed': nan, 'initiated': 27663, 'completed': 26061}, '36037': {'fips_code': '36037', 'deaths': 132, 'population': 57280, 'distributed': nan, 'initiated': 33064, 'completed': 30998}, '36039': {'fips_code': '36039', 'deaths': 87, 'population': 47188, 'distributed': nan, 'initiated': 29043, 'completed': 26687}, '36041': {'fips_code': '36041', 'deaths': 3, 'population': 4416, 'distributed': nan, 'initiated': 3767, 'completed': 3474}, '36043': {'fips_code': '36043', 'deaths': 129, 'population': 61319, 'distributed': nan, 'initiated': 34872, 'completed': 32660}, '36045': {'fips_code': '36045', 'deaths': 80, 'population': 109834, 'distributed': nan, 'initiated': 80220, 'completed': 68894}, '36047': {'fips_code': '36047', 'deaths': 10855, 'population': 2559903, 'distributed': nan, 'initiated': 1727155, 'completed': 1525336}, '36049': {'fips_code': '36049', 'deaths': 39, 'population': 26296, 'distributed': nan, 'initiated': 12870, 'completed': 12333}, '36051': {'fips_code': '36051', 'deaths': 71, 'population': 62914, 'distributed': nan, 'initiated': 35928, 'completed': 33955}, '36053': {'fips_code': '36053', 'deaths': 104, 'population': 70941, 'distributed': nan, 'initiated': 41678, 'completed': 39368}, '36055': {'fips_code': '36055', 'deaths': 1196, 'population': 741770, 'distributed': nan, 'initiated': 507725, 'completed': 480962}, '36057': {'fips_code': '36057', 'deaths': 150, 'population': 49221, 'distributed': nan, 'initiated': 31504, 'completed': 29584}, '36059': {'fips_code': '36059', 'deaths': 3305, 'population': 1356924, 'distributed': nan, 'initiated': 1089109, 'completed': 969211}, '36061': {'fips_code': '36061', 'deaths': 4635, 'population': 1628706, 'distributed': nan, 'initiated': 1389133, 'completed': 1202008}, '36063': {'fips_code': '36063', 'deaths': 400, 'population': 209281, 'distributed': nan, 'initiated': 133755, 'completed': 125421}, '36065': {'fips_code': '36065', 'deaths': 597, 'population': 228671, 'distributed': nan, 'initiated': 136770, 'completed': 127281}, '36067': {'fips_code': '36067', 'deaths': 771, 'population': 460528, 'distributed': nan, 'initiated': 323501, 'completed': 305675}, '36069': {'fips_code': '36069', 'deaths': 111, 'population': 109777, 'distributed': nan, 'initiated': 71206, 'completed': 67800}, '36071': {'fips_code': '36071', 'deaths': 780, 'population': 384940, 'distributed': nan, 'initiated': 247841, 'completed': 225715}, '36073': {'fips_code': '36073', 'deaths': 90, 'population': 40352, 'distributed': nan, 'initiated': 21441, 'completed': 20059}, '36075': {'fips_code': '36075', 'deaths': 117, 'population': 117124, 'distributed': nan, 'initiated': 66403, 'completed': 62972}, '36077': {'fips_code': '36077', 'deaths': 55, 'population': 59493, 'distributed': nan, 'initiated': 35049, 'completed': 33045}, '36079': {'fips_code': '36079', 'deaths': 98, 'population': 98320, 'distributed': nan, 'initiated': 70010, 'completed': 64453}, '36081': {'fips_code': '36081', 'deaths': 10282, 'population': 2253858, 'distributed': nan, 'initiated': 1865974, 'completed': 1662688}, '36083': {'fips_code': '36083', 'deaths': 172, 'population': 158714, 'distributed': nan, 'initiated': 107895, 'completed': 100591}, '36085': {'fips_code': '36085', 'deaths': 1942, 'population': 476143, 'distributed': nan, 'initiated': 332000, 'completed': 299721}, '36087': {'fips_code': '36087', 'deaths': 780, 'population': 325789, 'distributed': nan, 'initiated': 203419, 'completed': 184249}, '36089': {'fips_code': '36089', 'deaths': 131, 'population': 107740, 'distributed': nan, 'initiated': 62268, 'completed': 59176}, '36091': {'fips_code': '36091', 'deaths': 208, 'population': 229863, 'distributed': nan, 'initiated': 174744, 'completed': 163640}, '36093': {'fips_code': '36093', 'deaths': 230, 'population': 155299, 'distributed': nan, 'initiated': 107820, 'completed': 100394}, '36095': {'fips_code': '36095', 'deaths': 23, 'population': 30999, 'distributed': nan, 'initiated': 16905, 'completed': 15985}, '36097': {'fips_code': '36097', 'deaths': 17, 'population': 17807, 'distributed': nan, 'initiated': 10805, 'completed': 10173}, '36099': {'fips_code': '36099', 'deaths': 63, 'population': 34016, 'distributed': nan, 'initiated': 17617, 'completed': 16636}, '36101': {'fips_code': '36101', 'deaths': 175, 'population': 95379, 'distributed': nan, 'initiated': 55090, 'completed': 50653}, '36103': {'fips_code': '36103', 'deaths': 3624, 'population': 1476601, 'distributed': nan, 'initiated': 1085391, 'completed': 993698}, '36105': {'fips_code': '36105', 'deaths': 83, 'population': 75432, 'distributed': nan, 'initiated': 44138, 'completed': 40470}, '36107': {'fips_code': '36107', 'deaths': 72, 'population': 48203, 'distributed': nan, 'initiated': 28657, 'completed': 26202}, '36109': {'fips_code': '36109', 'deaths': 59, 'population': 102180, 'distributed': nan, 'initiated': 78233, 'completed': 72815}, '36111': {'fips_code': '36111', 'deaths': 283, 'population': 177573, 'distributed': nan, 'initiated': 125242, 'completed': 115369}, '36113': {'fips_code': '36113', 'deaths': 86, 'population': 63944, 'distributed': nan, 'initiated': 47709, 'completed': 44934}, '36115': {'fips_code': '36115', 'deaths': 69, 'population': 61204, 'distributed': nan, 'initiated': 39120, 'completed': 36474}, '36117': {'fips_code': '36117', 'deaths': 87, 'population': 89918, 'distributed': nan, 'initiated': 53453, 'completed': 50699}, '36119': {'fips_code': '36119', 'deaths': 2347, 'population': 967506, 'distributed': nan, 'initiated': 760174, 'completed': 679332}, '36121': {'fips_code': '36121', 'deaths': 59, 'population': 39859, 'distributed': nan, 'initiated': 19513, 'completed': 18385}, '36123': {'fips_code': '36123', 'deaths': 29, 'population': 24913, 'distributed': nan, 'initiated': 12713, 'completed': 11857}}\n"
     ]
    }
   ],
   "source": [
    "print(all_data)"
   ]
  },
  {
   "cell_type": "code",
   "execution_count": 23,
   "id": "a9203b9c",
   "metadata": {},
   "outputs": [],
   "source": [
    "import json "
   ]
  },
  {
   "cell_type": "code",
   "execution_count": 24,
   "id": "0c980291",
   "metadata": {},
   "outputs": [],
   "source": [
    "\n",
    "with open(\"c_data.json\", \"w\") as output:\n",
    "    json.dump(all_data, output)"
   ]
  },
  {
   "cell_type": "code",
   "execution_count": 26,
   "id": "a6558ea5",
   "metadata": {},
   "outputs": [
    {
     "name": "stdout",
     "output_type": "stream",
     "text": [
      "59\n"
     ]
    }
   ],
   "source": [
    "print(all_data[\"36121\"][\"deaths\"])"
   ]
  },
  {
   "cell_type": "code",
   "execution_count": null,
   "id": "06266a33",
   "metadata": {},
   "outputs": [],
   "source": []
  }
 ],
 "metadata": {
  "kernelspec": {
   "display_name": "Python 3 (ipykernel)",
   "language": "python",
   "name": "python3"
  },
  "language_info": {
   "codemirror_mode": {
    "name": "ipython",
    "version": 3
   },
   "file_extension": ".py",
   "mimetype": "text/x-python",
   "name": "python",
   "nbconvert_exporter": "python",
   "pygments_lexer": "ipython3",
   "version": "3.7.11"
  }
 },
 "nbformat": 4,
 "nbformat_minor": 5
}
