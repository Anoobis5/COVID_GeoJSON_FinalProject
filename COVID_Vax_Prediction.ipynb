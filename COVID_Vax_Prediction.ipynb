{
  "nbformat": 4,
  "nbformat_minor": 0,
  "metadata": {
    "kernelspec": {
      "display_name": "PythonData",
      "language": "python",
      "name": "pythondata"
    },
    "language_info": {
      "codemirror_mode": {
        "name": "ipython",
        "version": 3
      },
      "file_extension": ".py",
      "mimetype": "text/x-python",
      "name": "python",
      "nbconvert_exporter": "python",
      "pygments_lexer": "ipython3",
      "version": "3.8.8"
    },
    "colab": {
      "name": "COVID_Vax_Prediction.ipynb",
      "provenance": [],
      "collapsed_sections": []
    }
  },
  "cells": [
    {
      "cell_type": "markdown",
      "metadata": {
        "id": "vMbOV6PfQKhT"
      },
      "source": [
        "### Preprocessing"
      ]
    },
    {
      "cell_type": "code",
      "metadata": {
        "colab": {
          "base_uri": "https://localhost:8080/",
          "height": 717
        },
        "id": "IiMPZoxaQKhY",
        "outputId": "eae49c50-c2a4-47e5-939f-7907d1a7cd43"
      },
      "source": [
        "# Import our dependencies\n",
        "from sklearn.model_selection import train_test_split\n",
        "from sklearn.preprocessing import StandardScaler,OneHotEncoder\n",
        "import pandas as pd\n",
        "import tensorflow as tf\n",
        "import matplotlib.pyplot as plt\n",
        "from scipy import stats\n",
        "from sklearn.linear_model import LinearRegression\n",
        "\n",
        "#  Import and read the charity_data.csv.\n",
        "import pandas as pd \n",
        "vax_df = pd.read_csv(\"sample_data/county_data.csv\")\n",
        "demo_df = pd.read_csv(\"sample_data/NYS_demographics\")\n",
        "income_df = pd.read_csv(\"sample_data/NYS_income\")\n",
        "vax_df.head()\n",
        "demo_df.head()\n",
        "income_df.head()"
      ],
      "execution_count": 141,
      "outputs": [
        {
          "output_type": "execute_result",
          "data": {
            "text/html": [
              "<div>\n",
              "<style scoped>\n",
              "    .dataframe tbody tr th:only-of-type {\n",
              "        vertical-align: middle;\n",
              "    }\n",
              "\n",
              "    .dataframe tbody tr th {\n",
              "        vertical-align: top;\n",
              "    }\n",
              "\n",
              "    .dataframe thead th {\n",
              "        text-align: right;\n",
              "    }\n",
              "</style>\n",
              "<table border=\"1\" class=\"dataframe\">\n",
              "  <thead>\n",
              "    <tr style=\"text-align: right;\">\n",
              "      <th></th>\n",
              "      <th>index</th>\n",
              "      <th>County / County Group</th>\n",
              "      <th>Households with Elderly</th>\n",
              "      <th>Households with Children</th>\n",
              "      <th>Economic Development Region</th>\n",
              "      <th>Income Groups</th>\n",
              "      <th>Percent of Poverty Level</th>\n",
              "      <th>Low-to-Moderate Income (LMI) Group</th>\n",
              "      <th>Race / Ethnicity</th>\n",
              "      <th>Housing Unit Type</th>\n",
              "      <th>LMI Population Segment</th>\n",
              "      <th>Education Level</th>\n",
              "      <th>Head of Household Age</th>\n",
              "    </tr>\n",
              "  </thead>\n",
              "  <tbody>\n",
              "    <tr>\n",
              "      <th>0</th>\n",
              "      <td>0</td>\n",
              "      <td>Albany</td>\n",
              "      <td>No</td>\n",
              "      <td>No</td>\n",
              "      <td>Capital District</td>\n",
              "      <td>$0 to &lt;$10,000</td>\n",
              "      <td>1 - Income at or below 100% HHSPG</td>\n",
              "      <td>Group 1 - Very Low Income</td>\n",
              "      <td>Asian, non-Hispanic</td>\n",
              "      <td>4 - Moderate Multi-Family (5-50 units)</td>\n",
              "      <td>#1 – Low-Income Renters in Multifamily (5+ Uni...</td>\n",
              "      <td>3 - Some College</td>\n",
              "      <td>&lt;30</td>\n",
              "    </tr>\n",
              "    <tr>\n",
              "      <th>1</th>\n",
              "      <td>1</td>\n",
              "      <td>Albany</td>\n",
              "      <td>Yes</td>\n",
              "      <td>No</td>\n",
              "      <td>Capital District</td>\n",
              "      <td>$0 to &lt;$10,000</td>\n",
              "      <td>1 - Income at or below 100% HHSPG</td>\n",
              "      <td>Group 1 - Very Low Income</td>\n",
              "      <td>Asian, non-Hispanic</td>\n",
              "      <td>4 - Moderate Multi-Family (5-50 units)</td>\n",
              "      <td>#1 – Low-Income Renters in Multifamily (5+ Uni...</td>\n",
              "      <td>4 - Associate's</td>\n",
              "      <td>70+</td>\n",
              "    </tr>\n",
              "    <tr>\n",
              "      <th>2</th>\n",
              "      <td>2</td>\n",
              "      <td>Albany</td>\n",
              "      <td>No</td>\n",
              "      <td>No</td>\n",
              "      <td>Capital District</td>\n",
              "      <td>$0 to &lt;$10,000</td>\n",
              "      <td>1 - Income at or below 100% HHSPG</td>\n",
              "      <td>Group 1 - Very Low Income</td>\n",
              "      <td>Asian, non-Hispanic</td>\n",
              "      <td>5 - Large Multi-Family (50+ units)</td>\n",
              "      <td>#1 – Low-Income Renters in Multifamily (5+ Uni...</td>\n",
              "      <td>4 - Associate's</td>\n",
              "      <td>&lt;30</td>\n",
              "    </tr>\n",
              "    <tr>\n",
              "      <th>3</th>\n",
              "      <td>3</td>\n",
              "      <td>Albany</td>\n",
              "      <td>No</td>\n",
              "      <td>No</td>\n",
              "      <td>Capital District</td>\n",
              "      <td>$0 to &lt;$10,000</td>\n",
              "      <td>1 - Income at or below 100% HHSPG</td>\n",
              "      <td>Group 1 - Very Low Income</td>\n",
              "      <td>Asian, non-Hispanic</td>\n",
              "      <td>4 - Moderate Multi-Family (5-50 units)</td>\n",
              "      <td>#1 – Low-Income Renters in Multifamily (5+ Uni...</td>\n",
              "      <td>3 - Some College</td>\n",
              "      <td>&lt;30</td>\n",
              "    </tr>\n",
              "    <tr>\n",
              "      <th>4</th>\n",
              "      <td>4</td>\n",
              "      <td>Albany</td>\n",
              "      <td>Yes</td>\n",
              "      <td>No</td>\n",
              "      <td>Capital District</td>\n",
              "      <td>$0 to &lt;$10,000</td>\n",
              "      <td>1 - Income at or below 100% HHSPG</td>\n",
              "      <td>Group 1 - Very Low Income</td>\n",
              "      <td>Asian, non-Hispanic</td>\n",
              "      <td>2 - Single Family Detached</td>\n",
              "      <td>#3 – Low-Income Owners in Single-Family &amp; Smal...</td>\n",
              "      <td>5 - Bachelor's</td>\n",
              "      <td>70+</td>\n",
              "    </tr>\n",
              "  </tbody>\n",
              "</table>\n",
              "</div>"
            ],
            "text/plain": [
              "   index County / County Group  ...   Education Level Head of Household Age\n",
              "0      0                Albany  ...  3 - Some College                   <30\n",
              "1      1                Albany  ...   4 - Associate's                   70+\n",
              "2      2                Albany  ...   4 - Associate's                   <30\n",
              "3      3                Albany  ...  3 - Some College                   <30\n",
              "4      4                Albany  ...    5 - Bachelor's                   70+\n",
              "\n",
              "[5 rows x 13 columns]"
            ]
          },
          "metadata": {},
          "execution_count": 141
        }
      ]
    },
    {
      "cell_type": "code",
      "metadata": {
        "colab": {
          "base_uri": "https://localhost:8080/",
          "height": 419
        },
        "id": "EUtZ8Gc177WS",
        "outputId": "4fc126bc-f161-456f-c275-2df976f081b2"
      },
      "source": [
        "#Only keep necessary columns\n",
        "vax_df = vax_df[['county','population','metrics.vaccinationsCompletedRatio']]\n",
        "\n",
        "#Drop rows with NA\n",
        "vax_df = vax_df.dropna()\n",
        "\n",
        "#Clean county names\n",
        "vax_df['county'] = vax_df['county'].str.replace(' County', '')\n",
        "\n",
        "#Rename columns\n",
        "vax_df.columns = ['County', 'Total_Pop', 'Vax_Rate']\n",
        "\n",
        "vax_df"
      ],
      "execution_count": 142,
      "outputs": [
        {
          "output_type": "execute_result",
          "data": {
            "text/html": [
              "<div>\n",
              "<style scoped>\n",
              "    .dataframe tbody tr th:only-of-type {\n",
              "        vertical-align: middle;\n",
              "    }\n",
              "\n",
              "    .dataframe tbody tr th {\n",
              "        vertical-align: top;\n",
              "    }\n",
              "\n",
              "    .dataframe thead th {\n",
              "        text-align: right;\n",
              "    }\n",
              "</style>\n",
              "<table border=\"1\" class=\"dataframe\">\n",
              "  <thead>\n",
              "    <tr style=\"text-align: right;\">\n",
              "      <th></th>\n",
              "      <th>County</th>\n",
              "      <th>Total_Pop</th>\n",
              "      <th>Vax_Rate</th>\n",
              "    </tr>\n",
              "  </thead>\n",
              "  <tbody>\n",
              "    <tr>\n",
              "      <th>0</th>\n",
              "      <td>Albany</td>\n",
              "      <td>305506</td>\n",
              "      <td>0.672</td>\n",
              "    </tr>\n",
              "    <tr>\n",
              "      <th>1</th>\n",
              "      <td>Allegany</td>\n",
              "      <td>46091</td>\n",
              "      <td>0.389</td>\n",
              "    </tr>\n",
              "    <tr>\n",
              "      <th>2</th>\n",
              "      <td>Bronx</td>\n",
              "      <td>1418207</td>\n",
              "      <td>0.614</td>\n",
              "    </tr>\n",
              "    <tr>\n",
              "      <th>3</th>\n",
              "      <td>Broome</td>\n",
              "      <td>190488</td>\n",
              "      <td>0.580</td>\n",
              "    </tr>\n",
              "    <tr>\n",
              "      <th>4</th>\n",
              "      <td>Cattaraugus</td>\n",
              "      <td>76117</td>\n",
              "      <td>0.500</td>\n",
              "    </tr>\n",
              "    <tr>\n",
              "      <th>...</th>\n",
              "      <td>...</td>\n",
              "      <td>...</td>\n",
              "      <td>...</td>\n",
              "    </tr>\n",
              "    <tr>\n",
              "      <th>57</th>\n",
              "      <td>Washington</td>\n",
              "      <td>61204</td>\n",
              "      <td>0.598</td>\n",
              "    </tr>\n",
              "    <tr>\n",
              "      <th>58</th>\n",
              "      <td>Wayne</td>\n",
              "      <td>89918</td>\n",
              "      <td>0.566</td>\n",
              "    </tr>\n",
              "    <tr>\n",
              "      <th>59</th>\n",
              "      <td>Westchester</td>\n",
              "      <td>967506</td>\n",
              "      <td>0.705</td>\n",
              "    </tr>\n",
              "    <tr>\n",
              "      <th>60</th>\n",
              "      <td>Wyoming</td>\n",
              "      <td>39859</td>\n",
              "      <td>0.464</td>\n",
              "    </tr>\n",
              "    <tr>\n",
              "      <th>61</th>\n",
              "      <td>Yates</td>\n",
              "      <td>24913</td>\n",
              "      <td>0.477</td>\n",
              "    </tr>\n",
              "  </tbody>\n",
              "</table>\n",
              "<p>62 rows × 3 columns</p>\n",
              "</div>"
            ],
            "text/plain": [
              "         County  Total_Pop  Vax_Rate\n",
              "0        Albany     305506     0.672\n",
              "1      Allegany      46091     0.389\n",
              "2         Bronx    1418207     0.614\n",
              "3        Broome     190488     0.580\n",
              "4   Cattaraugus      76117     0.500\n",
              "..          ...        ...       ...\n",
              "57   Washington      61204     0.598\n",
              "58        Wayne      89918     0.566\n",
              "59  Westchester     967506     0.705\n",
              "60      Wyoming      39859     0.464\n",
              "61        Yates      24913     0.477\n",
              "\n",
              "[62 rows x 3 columns]"
            ]
          },
          "metadata": {},
          "execution_count": 142
        }
      ]
    },
    {
      "cell_type": "code",
      "metadata": {
        "colab": {
          "base_uri": "https://localhost:8080/",
          "height": 204
        },
        "id": "ThmnXxZm4gDK",
        "outputId": "7c8afc51-aa2f-4b06-e728-8f2211f29cd5"
      },
      "source": [
        "#Only keep necessary columns\n",
        "demo_df = demo_df[['County', 'White', 'AfricanAmerican', 'Asian', 'Other']]\n",
        "\n",
        "#Drop rows with NA\n",
        "demo_df = demo_df.dropna()\n",
        "\n",
        "#Clean percentages\n",
        "demo_df['White'] = demo_df['White'].str.replace('%', '').astype(float)\n",
        "demo_df['AfricanAmerican'] = demo_df['AfricanAmerican'].str.replace('%', '').astype(float)\n",
        "demo_df['Asian'] = demo_df['Asian'].str.replace('%', '').astype(float)\n",
        "demo_df['Other'] = demo_df['Other'].str.replace('%', '').astype(float)\n",
        "\n",
        "demo_df.head()\n"
      ],
      "execution_count": 143,
      "outputs": [
        {
          "output_type": "execute_result",
          "data": {
            "text/html": [
              "<div>\n",
              "<style scoped>\n",
              "    .dataframe tbody tr th:only-of-type {\n",
              "        vertical-align: middle;\n",
              "    }\n",
              "\n",
              "    .dataframe tbody tr th {\n",
              "        vertical-align: top;\n",
              "    }\n",
              "\n",
              "    .dataframe thead th {\n",
              "        text-align: right;\n",
              "    }\n",
              "</style>\n",
              "<table border=\"1\" class=\"dataframe\">\n",
              "  <thead>\n",
              "    <tr style=\"text-align: right;\">\n",
              "      <th></th>\n",
              "      <th>County</th>\n",
              "      <th>White</th>\n",
              "      <th>AfricanAmerican</th>\n",
              "      <th>Asian</th>\n",
              "      <th>Other</th>\n",
              "    </tr>\n",
              "  </thead>\n",
              "  <tbody>\n",
              "    <tr>\n",
              "      <th>1</th>\n",
              "      <td>Albany</td>\n",
              "      <td>77.8</td>\n",
              "      <td>13.2</td>\n",
              "      <td>6.6</td>\n",
              "      <td>2.5</td>\n",
              "    </tr>\n",
              "    <tr>\n",
              "      <th>2</th>\n",
              "      <td>Columbia</td>\n",
              "      <td>91.1</td>\n",
              "      <td>5.1</td>\n",
              "      <td>1.9</td>\n",
              "      <td>2.0</td>\n",
              "    </tr>\n",
              "    <tr>\n",
              "      <th>3</th>\n",
              "      <td>Greene</td>\n",
              "      <td>90.2</td>\n",
              "      <td>6.4</td>\n",
              "      <td>1.3</td>\n",
              "      <td>2.1</td>\n",
              "    </tr>\n",
              "    <tr>\n",
              "      <th>4</th>\n",
              "      <td>Rensselaer</td>\n",
              "      <td>87.8</td>\n",
              "      <td>7.2</td>\n",
              "      <td>2.8</td>\n",
              "      <td>2.2</td>\n",
              "    </tr>\n",
              "    <tr>\n",
              "      <th>5</th>\n",
              "      <td>Saratoga</td>\n",
              "      <td>93.6</td>\n",
              "      <td>1.9</td>\n",
              "      <td>2.7</td>\n",
              "      <td>1.7</td>\n",
              "    </tr>\n",
              "  </tbody>\n",
              "</table>\n",
              "</div>"
            ],
            "text/plain": [
              "       County  White  AfricanAmerican  Asian  Other\n",
              "1      Albany   77.8             13.2    6.6    2.5\n",
              "2    Columbia   91.1              5.1    1.9    2.0\n",
              "3      Greene   90.2              6.4    1.3    2.1\n",
              "4  Rensselaer   87.8              7.2    2.8    2.2\n",
              "5    Saratoga   93.6              1.9    2.7    1.7"
            ]
          },
          "metadata": {},
          "execution_count": 143
        }
      ]
    },
    {
      "cell_type": "code",
      "metadata": {
        "id": "uwBE0-nMAckJ"
      },
      "source": [
        "#Only keep necessary columns\n",
        "income_df = income_df[['County / County Group', 'Low-to-Moderate Income (LMI) Group']]\n",
        "\n",
        "#Drop rows with NA\n",
        "income_df = income_df.dropna()\n",
        "\n",
        "#Recode Income\n",
        "income_df[['Income - Very Low', 'Income - Low', 'Income - Moderate', 'Income - High']] = pd.get_dummies(income_df['Low-to-Moderate Income (LMI) Group']).astype(int)\n",
        "\n",
        "#Drop LMI Group\n",
        "income_df = income_df.drop('Low-to-Moderate Income (LMI) Group', axis=1)\n",
        "\n",
        "#Rename County\n",
        "income_df.rename(columns={'County / County Group':'County'}, inplace=True)\n",
        "\n",
        "#Group by county\n",
        "income_df = income_df.groupby('County').sum()"
      ],
      "execution_count": 144,
      "outputs": []
    },
    {
      "cell_type": "code",
      "metadata": {
        "id": "IQj4iKwJAbq1",
        "colab": {
          "base_uri": "https://localhost:8080/",
          "height": 221
        },
        "outputId": "d4433b76-1109-490c-a129-320d32ddfea9"
      },
      "source": [
        "# join files\n",
        "df_1 = vax_df.merge(demo_df, how='inner',on='County')\n",
        "df = df_1.merge(income_df, how='inner', on='County')\n",
        "df.head()"
      ],
      "execution_count": 145,
      "outputs": [
        {
          "output_type": "execute_result",
          "data": {
            "text/html": [
              "<div>\n",
              "<style scoped>\n",
              "    .dataframe tbody tr th:only-of-type {\n",
              "        vertical-align: middle;\n",
              "    }\n",
              "\n",
              "    .dataframe tbody tr th {\n",
              "        vertical-align: top;\n",
              "    }\n",
              "\n",
              "    .dataframe thead th {\n",
              "        text-align: right;\n",
              "    }\n",
              "</style>\n",
              "<table border=\"1\" class=\"dataframe\">\n",
              "  <thead>\n",
              "    <tr style=\"text-align: right;\">\n",
              "      <th></th>\n",
              "      <th>County</th>\n",
              "      <th>Total_Pop</th>\n",
              "      <th>Vax_Rate</th>\n",
              "      <th>White</th>\n",
              "      <th>AfricanAmerican</th>\n",
              "      <th>Asian</th>\n",
              "      <th>Other</th>\n",
              "      <th>Income - Very Low</th>\n",
              "      <th>Income - Low</th>\n",
              "      <th>Income - Moderate</th>\n",
              "      <th>Income - High</th>\n",
              "    </tr>\n",
              "  </thead>\n",
              "  <tbody>\n",
              "    <tr>\n",
              "      <th>0</th>\n",
              "      <td>Albany</td>\n",
              "      <td>305506</td>\n",
              "      <td>0.672</td>\n",
              "      <td>77.8</td>\n",
              "      <td>13.2</td>\n",
              "      <td>6.6</td>\n",
              "      <td>2.5</td>\n",
              "      <td>896</td>\n",
              "      <td>792</td>\n",
              "      <td>1152</td>\n",
              "      <td>4236</td>\n",
              "    </tr>\n",
              "    <tr>\n",
              "      <th>1</th>\n",
              "      <td>Albany</td>\n",
              "      <td>305506</td>\n",
              "      <td>0.672</td>\n",
              "      <td>77.8</td>\n",
              "      <td>13.2</td>\n",
              "      <td>6.6</td>\n",
              "      <td>2.5</td>\n",
              "      <td>896</td>\n",
              "      <td>792</td>\n",
              "      <td>1152</td>\n",
              "      <td>4236</td>\n",
              "    </tr>\n",
              "    <tr>\n",
              "      <th>2</th>\n",
              "      <td>Bronx</td>\n",
              "      <td>1418207</td>\n",
              "      <td>0.614</td>\n",
              "      <td>44.7</td>\n",
              "      <td>43.7</td>\n",
              "      <td>4.7</td>\n",
              "      <td>6.8</td>\n",
              "      <td>8208</td>\n",
              "      <td>3870</td>\n",
              "      <td>4004</td>\n",
              "      <td>7196</td>\n",
              "    </tr>\n",
              "    <tr>\n",
              "      <th>3</th>\n",
              "      <td>Bronx</td>\n",
              "      <td>1418207</td>\n",
              "      <td>0.614</td>\n",
              "      <td>44.7</td>\n",
              "      <td>43.7</td>\n",
              "      <td>4.7</td>\n",
              "      <td>6.8</td>\n",
              "      <td>8208</td>\n",
              "      <td>3870</td>\n",
              "      <td>4004</td>\n",
              "      <td>7196</td>\n",
              "    </tr>\n",
              "    <tr>\n",
              "      <th>4</th>\n",
              "      <td>Chautauqua</td>\n",
              "      <td>126903</td>\n",
              "      <td>0.530</td>\n",
              "      <td>94.3</td>\n",
              "      <td>2.8</td>\n",
              "      <td>0.7</td>\n",
              "      <td>2.2</td>\n",
              "      <td>980</td>\n",
              "      <td>1000</td>\n",
              "      <td>672</td>\n",
              "      <td>2350</td>\n",
              "    </tr>\n",
              "  </tbody>\n",
              "</table>\n",
              "</div>"
            ],
            "text/plain": [
              "       County  Total_Pop  ...  Income - Moderate  Income - High\n",
              "0      Albany     305506  ...               1152           4236\n",
              "1      Albany     305506  ...               1152           4236\n",
              "2       Bronx    1418207  ...               4004           7196\n",
              "3       Bronx    1418207  ...               4004           7196\n",
              "4  Chautauqua     126903  ...                672           2350\n",
              "\n",
              "[5 rows x 11 columns]"
            ]
          },
          "metadata": {},
          "execution_count": 145
        }
      ]
    },
    {
      "cell_type": "code",
      "metadata": {
        "colab": {
          "base_uri": "https://localhost:8080/",
          "height": 221
        },
        "id": "JuFiXqoEQKhZ",
        "outputId": "e17af4e5-3b3a-4193-bb72-8ff1b699d9e1"
      },
      "source": [
        "# Drop county\n",
        "df = df.drop(['County'], axis=1)\n",
        "\n",
        "df.head()"
      ],
      "execution_count": 146,
      "outputs": [
        {
          "output_type": "execute_result",
          "data": {
            "text/html": [
              "<div>\n",
              "<style scoped>\n",
              "    .dataframe tbody tr th:only-of-type {\n",
              "        vertical-align: middle;\n",
              "    }\n",
              "\n",
              "    .dataframe tbody tr th {\n",
              "        vertical-align: top;\n",
              "    }\n",
              "\n",
              "    .dataframe thead th {\n",
              "        text-align: right;\n",
              "    }\n",
              "</style>\n",
              "<table border=\"1\" class=\"dataframe\">\n",
              "  <thead>\n",
              "    <tr style=\"text-align: right;\">\n",
              "      <th></th>\n",
              "      <th>Total_Pop</th>\n",
              "      <th>Vax_Rate</th>\n",
              "      <th>White</th>\n",
              "      <th>AfricanAmerican</th>\n",
              "      <th>Asian</th>\n",
              "      <th>Other</th>\n",
              "      <th>Income - Very Low</th>\n",
              "      <th>Income - Low</th>\n",
              "      <th>Income - Moderate</th>\n",
              "      <th>Income - High</th>\n",
              "    </tr>\n",
              "  </thead>\n",
              "  <tbody>\n",
              "    <tr>\n",
              "      <th>0</th>\n",
              "      <td>305506</td>\n",
              "      <td>0.672</td>\n",
              "      <td>77.8</td>\n",
              "      <td>13.2</td>\n",
              "      <td>6.6</td>\n",
              "      <td>2.5</td>\n",
              "      <td>896</td>\n",
              "      <td>792</td>\n",
              "      <td>1152</td>\n",
              "      <td>4236</td>\n",
              "    </tr>\n",
              "    <tr>\n",
              "      <th>1</th>\n",
              "      <td>305506</td>\n",
              "      <td>0.672</td>\n",
              "      <td>77.8</td>\n",
              "      <td>13.2</td>\n",
              "      <td>6.6</td>\n",
              "      <td>2.5</td>\n",
              "      <td>896</td>\n",
              "      <td>792</td>\n",
              "      <td>1152</td>\n",
              "      <td>4236</td>\n",
              "    </tr>\n",
              "    <tr>\n",
              "      <th>2</th>\n",
              "      <td>1418207</td>\n",
              "      <td>0.614</td>\n",
              "      <td>44.7</td>\n",
              "      <td>43.7</td>\n",
              "      <td>4.7</td>\n",
              "      <td>6.8</td>\n",
              "      <td>8208</td>\n",
              "      <td>3870</td>\n",
              "      <td>4004</td>\n",
              "      <td>7196</td>\n",
              "    </tr>\n",
              "    <tr>\n",
              "      <th>3</th>\n",
              "      <td>1418207</td>\n",
              "      <td>0.614</td>\n",
              "      <td>44.7</td>\n",
              "      <td>43.7</td>\n",
              "      <td>4.7</td>\n",
              "      <td>6.8</td>\n",
              "      <td>8208</td>\n",
              "      <td>3870</td>\n",
              "      <td>4004</td>\n",
              "      <td>7196</td>\n",
              "    </tr>\n",
              "    <tr>\n",
              "      <th>4</th>\n",
              "      <td>126903</td>\n",
              "      <td>0.530</td>\n",
              "      <td>94.3</td>\n",
              "      <td>2.8</td>\n",
              "      <td>0.7</td>\n",
              "      <td>2.2</td>\n",
              "      <td>980</td>\n",
              "      <td>1000</td>\n",
              "      <td>672</td>\n",
              "      <td>2350</td>\n",
              "    </tr>\n",
              "  </tbody>\n",
              "</table>\n",
              "</div>"
            ],
            "text/plain": [
              "   Total_Pop  Vax_Rate  White  ...  Income - Low  Income - Moderate  Income - High\n",
              "0     305506     0.672   77.8  ...           792               1152           4236\n",
              "1     305506     0.672   77.8  ...           792               1152           4236\n",
              "2    1418207     0.614   44.7  ...          3870               4004           7196\n",
              "3    1418207     0.614   44.7  ...          3870               4004           7196\n",
              "4     126903     0.530   94.3  ...          1000                672           2350\n",
              "\n",
              "[5 rows x 10 columns]"
            ]
          },
          "metadata": {},
          "execution_count": 146
        }
      ]
    },
    {
      "cell_type": "code",
      "metadata": {
        "colab": {
          "base_uri": "https://localhost:8080/"
        },
        "id": "4WM3VX00-Yp5",
        "outputId": "a5696edc-c577-4894-966e-1c7231bbe6d4"
      },
      "source": [
        "# Check all values are numeric\n",
        "df.info()\n",
        "\n"
      ],
      "execution_count": 147,
      "outputs": [
        {
          "output_type": "stream",
          "name": "stdout",
          "text": [
            "<class 'pandas.core.frame.DataFrame'>\n",
            "Int64Index: 46 entries, 0 to 45\n",
            "Data columns (total 10 columns):\n",
            " #   Column             Non-Null Count  Dtype  \n",
            "---  ------             --------------  -----  \n",
            " 0   Total_Pop          46 non-null     int64  \n",
            " 1   Vax_Rate           46 non-null     float64\n",
            " 2   White              46 non-null     float64\n",
            " 3   AfricanAmerican    46 non-null     float64\n",
            " 4   Asian              46 non-null     float64\n",
            " 5   Other              46 non-null     float64\n",
            " 6   Income - Very Low  46 non-null     int64  \n",
            " 7   Income - Low       46 non-null     int64  \n",
            " 8   Income - Moderate  46 non-null     int64  \n",
            " 9   Income - High      46 non-null     int64  \n",
            "dtypes: float64(5), int64(5)\n",
            "memory usage: 4.0 KB\n"
          ]
        }
      ]
    },
    {
      "cell_type": "code",
      "metadata": {
        "id": "9qcxkRvIgMHu"
      },
      "source": [
        "# Export to CSV for multiple regression\n",
        "df.to_csv('sample_data/clean_df.csv')"
      ],
      "execution_count": 148,
      "outputs": []
    },
    {
      "cell_type": "code",
      "metadata": {
        "id": "oTku1raXQKhf"
      },
      "source": [
        "# Split our preprocessed data into our features and target arrays\n",
        "y = df[\"Vax_Rate\"].values\n",
        "X = df.drop([\"Vax_Rate\"],1).values\n",
        "\n",
        "# Split the preprocessed data into a training and testing dataset\n",
        "X_train, X_test, y_train, y_test = train_test_split(X, y)"
      ],
      "execution_count": 149,
      "outputs": []
    },
    {
      "cell_type": "code",
      "metadata": {
        "id": "52tW9T5uQKhf"
      },
      "source": [
        "# Create a StandardScaler instances\n",
        "scaler = StandardScaler()\n",
        "\n",
        "# Fit the StandardScaler\n",
        "X_scaler = scaler.fit(X_train)\n",
        "\n",
        "# Scale the data\n",
        "X_train_scaled = X_scaler.transform(X_train)\n",
        "X_test_scaled = X_scaler.transform(X_test)"
      ],
      "execution_count": 150,
      "outputs": []
    },
    {
      "cell_type": "markdown",
      "metadata": {
        "id": "tYOnOkjK7PMP"
      },
      "source": [
        "### Linear Regression"
      ]
    },
    {
      "cell_type": "code",
      "metadata": {
        "colab": {
          "base_uri": "https://localhost:8080/"
        },
        "id": "A4ZyF9xV7OVq",
        "outputId": "1b9e75da-aa7b-48a4-ac99-288b94cbf4ac"
      },
      "source": [
        "model = LinearRegression()\n",
        "model.fit(X_train, y_train)"
      ],
      "execution_count": 151,
      "outputs": [
        {
          "output_type": "execute_result",
          "data": {
            "text/plain": [
              "LinearRegression(copy_X=True, fit_intercept=True, n_jobs=None, normalize=False)"
            ]
          },
          "metadata": {},
          "execution_count": 151
        }
      ]
    },
    {
      "cell_type": "code",
      "metadata": {
        "colab": {
          "base_uri": "https://localhost:8080/"
        },
        "id": "a03i0iYX7bB8",
        "outputId": "633bda71-c825-46e7-9ad0-88377fd906b8"
      },
      "source": [
        "y_pred = model.predict(X_test)\n",
        "print(y_pred.shape)"
      ],
      "execution_count": 152,
      "outputs": [
        {
          "output_type": "stream",
          "name": "stdout",
          "text": [
            "(12,)\n"
          ]
        }
      ]
    },
    {
      "cell_type": "code",
      "metadata": {
        "colab": {
          "base_uri": "https://localhost:8080/"
        },
        "id": "yzE4dplP7rDv",
        "outputId": "e1a1710f-7c14-41a0-d3fc-7479adce5567"
      },
      "source": [
        "print(model.coef_)\n",
        "print(model.intercept_)"
      ],
      "execution_count": 153,
      "outputs": [
        {
          "output_type": "stream",
          "name": "stdout",
          "text": [
            "[-1.10873397e-10 -1.73933863e-01 -1.75468284e-01 -1.69163031e-01\n",
            " -1.54979827e-01  4.07509366e-07 -3.27910282e-05 -3.32032577e-06\n",
            "  9.71618633e-06]\n",
            "17.9592929880453\n"
          ]
        }
      ]
    },
    {
      "cell_type": "markdown",
      "metadata": {
        "id": "3aITeeXUQKhf"
      },
      "source": [
        "### Neural Network"
      ]
    },
    {
      "cell_type": "code",
      "metadata": {
        "colab": {
          "base_uri": "https://localhost:8080/"
        },
        "id": "AHoggqOqQKhf",
        "outputId": "5c2ee758-8c24-465d-f3a7-0a25b3390aa8"
      },
      "source": [
        "# Define the model - deep neural net, i.e., the number of input features and hidden nodes for each layer.\n",
        "number_input_features = len(X_train[0])\n",
        "hidden_nodes_layer1 = 100\n",
        "hidden_nodes_layer2 = 100\n",
        "\n",
        "nn = tf.keras.models.Sequential()\n",
        "\n",
        "# First hidden layer\n",
        "nn.add(\n",
        "    tf.keras.layers.Dense(units=hidden_nodes_layer1, \n",
        "                          input_dim=number_input_features, \n",
        "                          activation=\"relu\")\n",
        ")\n",
        "\n",
        "# Second hidden layer\n",
        "nn.add(tf.keras.layers.Dense(units=hidden_nodes_layer2, \n",
        "                             activation=\"tanh\"))\n",
        "\n",
        "# Output layer\n",
        "nn.add(tf.keras.layers.Dense(units=1, activation=\"linear\"))\n",
        "\n",
        "# Check the structure of the model\n",
        "nn.summary()"
      ],
      "execution_count": 154,
      "outputs": [
        {
          "output_type": "stream",
          "name": "stdout",
          "text": [
            "Model: \"sequential_1\"\n",
            "_________________________________________________________________\n",
            "Layer (type)                 Output Shape              Param #   \n",
            "=================================================================\n",
            "dense_3 (Dense)              (None, 100)               1000      \n",
            "_________________________________________________________________\n",
            "dense_4 (Dense)              (None, 100)               10100     \n",
            "_________________________________________________________________\n",
            "dense_5 (Dense)              (None, 1)                 101       \n",
            "=================================================================\n",
            "Total params: 11,201\n",
            "Trainable params: 11,201\n",
            "Non-trainable params: 0\n",
            "_________________________________________________________________\n"
          ]
        }
      ]
    },
    {
      "cell_type": "code",
      "metadata": {
        "id": "QQw52uSZQKhg"
      },
      "source": [
        "# Compile the model\n",
        "nn.compile(loss=\"mean_absolute_error\", \n",
        "           optimizer=\"adam\")"
      ],
      "execution_count": 155,
      "outputs": []
    },
    {
      "cell_type": "code",
      "metadata": {
        "id": "_OzKl8CEtszm"
      },
      "source": [
        "# Create a callback that saves the model's weights every 5 epochs\n",
        "callbacks = tf.keras.callbacks.ModelCheckpoint('weights{epoch:08d}.h5', \n",
        "                                     save_weights_only=True, save_freq=5)"
      ],
      "execution_count": 156,
      "outputs": []
    },
    {
      "cell_type": "code",
      "metadata": {
        "colab": {
          "base_uri": "https://localhost:8080/"
        },
        "id": "ng_lpxZDQKhg",
        "outputId": "9db2540d-4218-4fb2-a133-f3d90361995a"
      },
      "source": [
        "# Train the model\n",
        "fit_model = nn.fit(X_train_scaled, y_train, epochs=100, callbacks=[callbacks])"
      ],
      "execution_count": 157,
      "outputs": [
        {
          "output_type": "stream",
          "name": "stdout",
          "text": [
            "Epoch 1/100\n",
            "2/2 [==============================] - 0s 7ms/step - loss: 0.9105\n",
            "Epoch 2/100\n",
            "2/2 [==============================] - 0s 5ms/step - loss: 0.5360\n",
            "Epoch 3/100\n",
            "2/2 [==============================] - 0s 18ms/step - loss: 0.2259\n",
            "Epoch 4/100\n",
            "2/2 [==============================] - 0s 6ms/step - loss: 0.2742\n",
            "Epoch 5/100\n",
            "2/2 [==============================] - 0s 18ms/step - loss: 0.3508\n",
            "Epoch 6/100\n",
            "2/2 [==============================] - 0s 6ms/step - loss: 0.3598\n",
            "Epoch 7/100\n",
            "2/2 [==============================] - 0s 16ms/step - loss: 0.3158\n",
            "Epoch 8/100\n",
            "2/2 [==============================] - 0s 15ms/step - loss: 0.2599\n",
            "Epoch 9/100\n",
            "2/2 [==============================] - 0s 5ms/step - loss: 0.2059\n",
            "Epoch 10/100\n",
            "2/2 [==============================] - 0s 19ms/step - loss: 0.1503\n",
            "Epoch 11/100\n",
            "2/2 [==============================] - 0s 13ms/step - loss: 0.1113\n",
            "Epoch 12/100\n",
            "2/2 [==============================] - 0s 10ms/step - loss: 0.1455\n",
            "Epoch 13/100\n",
            "2/2 [==============================] - 0s 23ms/step - loss: 0.1555\n",
            "Epoch 14/100\n",
            "2/2 [==============================] - 0s 5ms/step - loss: 0.1413\n",
            "Epoch 15/100\n",
            "2/2 [==============================] - 0s 25ms/step - loss: 0.1133\n",
            "Epoch 16/100\n",
            "2/2 [==============================] - 0s 9ms/step - loss: 0.0891\n",
            "Epoch 17/100\n",
            "2/2 [==============================] - 0s 9ms/step - loss: 0.1037\n",
            "Epoch 18/100\n",
            "2/2 [==============================] - 0s 23ms/step - loss: 0.1070\n",
            "Epoch 19/100\n",
            "2/2 [==============================] - 0s 9ms/step - loss: 0.0921\n",
            "Epoch 20/100\n",
            "2/2 [==============================] - 0s 15ms/step - loss: 0.1009\n",
            "Epoch 21/100\n",
            "2/2 [==============================] - 0s 5ms/step - loss: 0.1329\n",
            "Epoch 22/100\n",
            "2/2 [==============================] - 0s 7ms/step - loss: 0.1299\n",
            "Epoch 23/100\n",
            "2/2 [==============================] - 0s 22ms/step - loss: 0.1047\n",
            "Epoch 24/100\n",
            "2/2 [==============================] - 0s 7ms/step - loss: 0.0815\n",
            "Epoch 25/100\n",
            "2/2 [==============================] - 0s 15ms/step - loss: 0.0762\n",
            "Epoch 26/100\n",
            "2/2 [==============================] - 0s 7ms/step - loss: 0.0886\n",
            "Epoch 27/100\n",
            "2/2 [==============================] - 0s 4ms/step - loss: 0.0786\n",
            "Epoch 28/100\n",
            "2/2 [==============================] - 0s 18ms/step - loss: 0.0803\n",
            "Epoch 29/100\n",
            "2/2 [==============================] - 0s 7ms/step - loss: 0.0748\n",
            "Epoch 30/100\n",
            "2/2 [==============================] - 0s 17ms/step - loss: 0.0694\n",
            "Epoch 31/100\n",
            "2/2 [==============================] - 0s 6ms/step - loss: 0.0666\n",
            "Epoch 32/100\n",
            "2/2 [==============================] - 0s 5ms/step - loss: 0.0645\n",
            "Epoch 33/100\n",
            "2/2 [==============================] - 0s 14ms/step - loss: 0.0689\n",
            "Epoch 34/100\n",
            "2/2 [==============================] - 0s 8ms/step - loss: 0.0713\n",
            "Epoch 35/100\n",
            "2/2 [==============================] - 0s 13ms/step - loss: 0.1026\n",
            "Epoch 36/100\n",
            "2/2 [==============================] - 0s 13ms/step - loss: 0.0930\n",
            "Epoch 37/100\n",
            "2/2 [==============================] - 0s 8ms/step - loss: 0.0923\n",
            "Epoch 38/100\n",
            "2/2 [==============================] - 0s 22ms/step - loss: 0.0750\n",
            "Epoch 39/100\n",
            "2/2 [==============================] - 0s 8ms/step - loss: 0.0668\n",
            "Epoch 40/100\n",
            "2/2 [==============================] - 0s 13ms/step - loss: 0.1012\n",
            "Epoch 41/100\n",
            "2/2 [==============================] - 0s 7ms/step - loss: 0.0857\n",
            "Epoch 42/100\n",
            "2/2 [==============================] - 0s 8ms/step - loss: 0.0708\n",
            "Epoch 43/100\n",
            "2/2 [==============================] - 0s 15ms/step - loss: 0.0942\n",
            "Epoch 44/100\n",
            "2/2 [==============================] - 0s 7ms/step - loss: 0.0978\n",
            "Epoch 45/100\n",
            "2/2 [==============================] - 0s 13ms/step - loss: 0.0727\n",
            "Epoch 46/100\n",
            "2/2 [==============================] - 0s 9ms/step - loss: 0.0582\n",
            "Epoch 47/100\n",
            "2/2 [==============================] - 0s 10ms/step - loss: 0.0598\n",
            "Epoch 48/100\n",
            "2/2 [==============================] - 0s 16ms/step - loss: 0.0634\n",
            "Epoch 49/100\n",
            "2/2 [==============================] - 0s 6ms/step - loss: 0.0706\n",
            "Epoch 50/100\n",
            "2/2 [==============================] - 0s 19ms/step - loss: 0.0737\n",
            "Epoch 51/100\n",
            "2/2 [==============================] - 0s 11ms/step - loss: 0.1172\n",
            "Epoch 52/100\n",
            "2/2 [==============================] - 0s 7ms/step - loss: 0.1632\n",
            "Epoch 53/100\n",
            "2/2 [==============================] - 0s 18ms/step - loss: 0.1591\n",
            "Epoch 54/100\n",
            "2/2 [==============================] - 0s 9ms/step - loss: 0.1193\n",
            "Epoch 55/100\n",
            "2/2 [==============================] - 0s 15ms/step - loss: 0.1427\n",
            "Epoch 56/100\n",
            "2/2 [==============================] - 0s 9ms/step - loss: 0.1467\n",
            "Epoch 57/100\n",
            "2/2 [==============================] - 0s 7ms/step - loss: 0.1347\n",
            "Epoch 58/100\n",
            "2/2 [==============================] - 0s 13ms/step - loss: 0.1144\n",
            "Epoch 59/100\n",
            "2/2 [==============================] - 0s 6ms/step - loss: 0.1236\n",
            "Epoch 60/100\n",
            "2/2 [==============================] - 0s 18ms/step - loss: 0.1542\n",
            "Epoch 61/100\n",
            "2/2 [==============================] - 0s 7ms/step - loss: 0.1329\n",
            "Epoch 62/100\n",
            "2/2 [==============================] - 0s 6ms/step - loss: 0.0897\n",
            "Epoch 63/100\n",
            "2/2 [==============================] - 0s 18ms/step - loss: 0.0841\n",
            "Epoch 64/100\n",
            "2/2 [==============================] - 0s 4ms/step - loss: 0.0862\n",
            "Epoch 65/100\n",
            "2/2 [==============================] - 0s 21ms/step - loss: 0.0825\n",
            "Epoch 66/100\n",
            "2/2 [==============================] - 0s 6ms/step - loss: 0.0806\n",
            "Epoch 67/100\n",
            "2/2 [==============================] - 0s 10ms/step - loss: 0.0676\n",
            "Epoch 68/100\n",
            "2/2 [==============================] - 0s 18ms/step - loss: 0.0672\n",
            "Epoch 69/100\n",
            "2/2 [==============================] - 0s 8ms/step - loss: 0.0734\n",
            "Epoch 70/100\n",
            "2/2 [==============================] - 0s 15ms/step - loss: 0.0691\n",
            "Epoch 71/100\n",
            "2/2 [==============================] - 0s 10ms/step - loss: 0.0519\n",
            "Epoch 72/100\n",
            "2/2 [==============================] - 0s 8ms/step - loss: 0.0504\n",
            "Epoch 73/100\n",
            "2/2 [==============================] - 0s 20ms/step - loss: 0.0706\n",
            "Epoch 74/100\n",
            "2/2 [==============================] - 0s 8ms/step - loss: 0.0671\n",
            "Epoch 75/100\n",
            "2/2 [==============================] - 0s 14ms/step - loss: 0.0555\n",
            "Epoch 76/100\n",
            "2/2 [==============================] - 0s 6ms/step - loss: 0.0525\n",
            "Epoch 77/100\n",
            "2/2 [==============================] - 0s 9ms/step - loss: 0.0439\n",
            "Epoch 78/100\n",
            "2/2 [==============================] - 0s 18ms/step - loss: 0.0741\n",
            "Epoch 79/100\n",
            "2/2 [==============================] - 0s 5ms/step - loss: 0.0788\n",
            "Epoch 80/100\n",
            "2/2 [==============================] - 0s 17ms/step - loss: 0.0863\n",
            "Epoch 81/100\n",
            "2/2 [==============================] - 0s 8ms/step - loss: 0.0822\n",
            "Epoch 82/100\n",
            "2/2 [==============================] - 0s 5ms/step - loss: 0.0936\n",
            "Epoch 83/100\n",
            "2/2 [==============================] - 0s 16ms/step - loss: 0.0863\n",
            "Epoch 84/100\n",
            "2/2 [==============================] - 0s 9ms/step - loss: 0.0609\n",
            "Epoch 85/100\n",
            "2/2 [==============================] - 0s 15ms/step - loss: 0.0537\n",
            "Epoch 86/100\n",
            "2/2 [==============================] - 0s 5ms/step - loss: 0.0578\n",
            "Epoch 87/100\n",
            "2/2 [==============================] - 0s 6ms/step - loss: 0.0560\n",
            "Epoch 88/100\n",
            "2/2 [==============================] - 0s 27ms/step - loss: 0.0680\n",
            "Epoch 89/100\n",
            "2/2 [==============================] - 0s 8ms/step - loss: 0.0618\n",
            "Epoch 90/100\n",
            "2/2 [==============================] - 0s 16ms/step - loss: 0.0592\n",
            "Epoch 91/100\n",
            "2/2 [==============================] - 0s 8ms/step - loss: 0.0770\n",
            "Epoch 92/100\n",
            "2/2 [==============================] - 0s 10ms/step - loss: 0.1039\n",
            "Epoch 93/100\n",
            "2/2 [==============================] - 0s 18ms/step - loss: 0.1008\n",
            "Epoch 94/100\n",
            "2/2 [==============================] - 0s 8ms/step - loss: 0.0894\n",
            "Epoch 95/100\n",
            "2/2 [==============================] - 0s 14ms/step - loss: 0.0669\n",
            "Epoch 96/100\n",
            "2/2 [==============================] - 0s 7ms/step - loss: 0.0740\n",
            "Epoch 97/100\n",
            "2/2 [==============================] - 0s 7ms/step - loss: 0.0957\n",
            "Epoch 98/100\n",
            "2/2 [==============================] - 0s 13ms/step - loss: 0.1153\n",
            "Epoch 99/100\n",
            "2/2 [==============================] - 0s 7ms/step - loss: 0.0922\n",
            "Epoch 100/100\n",
            "2/2 [==============================] - 0s 15ms/step - loss: 0.0639\n"
          ]
        }
      ]
    },
    {
      "cell_type": "code",
      "metadata": {
        "colab": {
          "base_uri": "https://localhost:8080/"
        },
        "id": "KjpRhU42QKhg",
        "outputId": "552fa06e-428e-4ae4-edfc-0a603166149d"
      },
      "source": [
        "# Evaluate the model using the test data\n",
        "model_loss = nn.evaluate(X_test_scaled,y_test,verbose=1)\n",
        "print(f\"Loss: {model_loss}\")"
      ],
      "execution_count": 158,
      "outputs": [
        {
          "output_type": "stream",
          "name": "stdout",
          "text": [
            "1/1 [==============================] - 0s 116ms/step - loss: 0.0574\n",
            "Loss: 0.05741020664572716\n"
          ]
        }
      ]
    },
    {
      "cell_type": "code",
      "metadata": {
        "id": "8RsT7UvTQKhh"
      },
      "source": [
        "#Save \n",
        "nn.save('COVID_Vax_Predictions.h5')"
      ],
      "execution_count": 159,
      "outputs": []
    }
  ]
}